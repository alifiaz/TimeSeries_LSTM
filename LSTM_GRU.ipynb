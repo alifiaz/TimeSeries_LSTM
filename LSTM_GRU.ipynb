{
 "cells": [
  {
   "cell_type": "markdown",
   "metadata": {},
   "source": [
    "# Multiple LSTM & GRU Electricty Forecast "
   ]
  },
  {
   "cell_type": "code",
   "execution_count": 1,
   "metadata": {},
   "outputs": [
    {
     "data": {
      "text/html": [
       "<script>jQuery(function() {if (jQuery(\"body.notebook_app\").length == 0) { jQuery(\".input_area\").toggle(); jQuery(\".prompt\").toggle();}});</script>"
      ]
     },
     "metadata": {},
     "output_type": "display_data"
    }
   ],
   "source": [
    "import numpy as np\n",
    "import matplotlib.pyplot as plt\n",
    "import pandas as pd\n",
    "pd.options.display.float_format = '{:.2f}'.format\n",
    "import seaborn as sns\n",
    "import warnings\n",
    "warnings.filterwarnings('ignore')\n",
    "from time import time\n",
    "import matplotlib.ticker as tkr\n",
    "from scipy import stats\n",
    "%matplotlib inline\n",
    "\n",
    "import IPython.core.display as di\n",
    "# This line will hide code by default when the notebook is exported as HTML\n",
    "di.display_html('<script>jQuery(function() {if (jQuery(\"body.notebook_app\").length == 0) { jQuery(\".input_area\").toggle(); jQuery(\".prompt\").toggle();}});</script>', raw=True)"
   ]
  },
  {
   "cell_type": "markdown",
   "metadata": {},
   "source": [
    "## Deep Learning Modeling : LSTM"
   ]
  },
  {
   "cell_type": "code",
   "execution_count": 2,
   "metadata": {},
   "outputs": [
    {
     "name": "stderr",
     "output_type": "stream",
     "text": [
      "Using TensorFlow backend.\n"
     ]
    }
   ],
   "source": [
    "import numpy\n",
    "import matplotlib.pyplot as plt\n",
    "import pandas\n",
    "import math\n",
    "import keras\n",
    "from keras.models import Sequential\n",
    "from keras.layers import Dense\n",
    "from keras.layers import LSTM\n",
    "from keras.layers import Dropout\n",
    "from keras.layers import *\n",
    "from sklearn.preprocessing import MinMaxScaler\n",
    "from sklearn.metrics import mean_squared_error"
   ]
  },
  {
   "cell_type": "code",
   "execution_count": 3,
   "metadata": {},
   "outputs": [
    {
     "data": {
      "text/plain": [
       "(157819, 1)"
      ]
     },
     "execution_count": 3,
     "metadata": {},
     "output_type": "execute_result"
    }
   ],
   "source": [
    "# load the dataset\n",
    "df = pd.read_excel('LSTM.xlsx', usecols=[1], skipfooter=3)\n",
    "df.shape"
   ]
  },
  {
   "cell_type": "code",
   "execution_count": 61,
   "metadata": {},
   "outputs": [
    {
     "data": {
      "text/plain": [
       "(66900, 1)"
      ]
     },
     "execution_count": 61,
     "metadata": {},
     "output_type": "execute_result"
    }
   ],
   "source": [
    "# For Cross validation\n",
    "#df=df[23550:109900]\n",
    "df=df[71100:138000]\n",
    "df.shape"
   ]
  },
  {
   "cell_type": "code",
   "execution_count": 4,
   "metadata": {},
   "outputs": [],
   "source": [
    "numpy.random.seed(7)\n",
    "# normalize the dataset\n",
    "scaler = MinMaxScaler(feature_range=(0, 1))\n",
    "dataset = scaler.fit_transform(df)"
   ]
  },
  {
   "cell_type": "code",
   "execution_count": 5,
   "metadata": {},
   "outputs": [
    {
     "name": "stdout",
     "output_type": "stream",
     "text": [
      "(157819, 1)\n"
     ]
    },
    {
     "data": {
      "text/html": [
       "<div>\n",
       "<style scoped>\n",
       "    .dataframe tbody tr th:only-of-type {\n",
       "        vertical-align: middle;\n",
       "    }\n",
       "\n",
       "    .dataframe tbody tr th {\n",
       "        vertical-align: top;\n",
       "    }\n",
       "\n",
       "    .dataframe thead th {\n",
       "        text-align: right;\n",
       "    }\n",
       "</style>\n",
       "<table border=\"1\" class=\"dataframe\">\n",
       "  <thead>\n",
       "    <tr style=\"text-align: right;\">\n",
       "      <th></th>\n",
       "      <th>Consumption</th>\n",
       "    </tr>\n",
       "  </thead>\n",
       "  <tbody>\n",
       "    <tr>\n",
       "      <th>0</th>\n",
       "      <td>0.48</td>\n",
       "    </tr>\n",
       "    <tr>\n",
       "      <th>1</th>\n",
       "      <td>0.48</td>\n",
       "    </tr>\n",
       "    <tr>\n",
       "      <th>2</th>\n",
       "      <td>0.48</td>\n",
       "    </tr>\n",
       "    <tr>\n",
       "      <th>3</th>\n",
       "      <td>0.48</td>\n",
       "    </tr>\n",
       "    <tr>\n",
       "      <th>4</th>\n",
       "      <td>0.45</td>\n",
       "    </tr>\n",
       "  </tbody>\n",
       "</table>\n",
       "</div>"
      ],
      "text/plain": [
       "   Consumption\n",
       "0         0.48\n",
       "1         0.48\n",
       "2         0.48\n",
       "3         0.48\n",
       "4         0.45"
      ]
     },
     "execution_count": 5,
     "metadata": {},
     "output_type": "execute_result"
    }
   ],
   "source": [
    "df=pd.DataFrame(dataset)\n",
    "df.columns=['Consumption']\n",
    "print(df.shape)\n",
    "df.head()"
   ]
  },
  {
   "cell_type": "markdown",
   "metadata": {},
   "source": [
    "### Create Lags"
   ]
  },
  {
   "cell_type": "code",
   "execution_count": 7,
   "metadata": {},
   "outputs": [
    {
     "name": "stdout",
     "output_type": "stream",
     "text": [
      "The number of lags are: (30,)\n"
     ]
    },
    {
     "data": {
      "text/plain": [
       "array([   1,    2,    3,    4,    5,    6,    7,    8,    9,   10,  336,\n",
       "        337,  338,  339,  340,  341,  342,  343,  344,  345, 1440, 1441,\n",
       "       1442, 1443, 1444, 1445, 1446, 1447, 1448, 1449])"
      ]
     },
     "execution_count": 7,
     "metadata": {},
     "output_type": "execute_result"
    }
   ],
   "source": [
    "#Lags GRU\n",
    "lag1=np.arange(1,21,1)\n",
    "lag2=np.arange(48,68,1)\n",
    "lag3=np.arange(336,356,1)\n",
    "lag=np.concatenate([lag1,lag2,lag3])\n",
    "print('The number of lags are:',lag.shape)\n",
    "lag"
   ]
  },
  {
   "cell_type": "markdown",
   "metadata": {},
   "source": [
    "### For Validation"
   ]
  },
  {
   "cell_type": "code",
   "execution_count": 6,
   "metadata": {},
   "outputs": [
    {
     "name": "stdout",
     "output_type": "stream",
     "text": [
      "The number of lags are: (21,)\n"
     ]
    },
    {
     "data": {
      "text/plain": [
       "array([   1,    2,    3,    4,    5,    6,    7, 1737, 1738, 1739, 1740,\n",
       "       1741, 1742, 1743,  958,  959,  960,  961,  962,  963,  964])"
      ]
     },
     "execution_count": 6,
     "metadata": {},
     "output_type": "execute_result"
    }
   ],
   "source": [
    "#lags LSTM for Genetic Algorithm Solution\n",
    "#lag1=np.arange(1,6,1)\n",
    "lag1=np.arange(1,8,1)\n",
    "#lag2=np.arange(690,695,1)\n",
    "lag2=np.arange(1737,1744,1)\n",
    "#lag3=np.arange(766,771,1)\n",
    "lag3=np.arange(958,965,1)\n",
    "lag=np.concatenate([lag1,lag2,lag3])\n",
    "print('The number of lags are:',lag.shape)\n",
    "lag"
   ]
  },
  {
   "cell_type": "code",
   "execution_count": 32,
   "metadata": {},
   "outputs": [
    {
     "name": "stdout",
     "output_type": "stream",
     "text": [
      "The number of lags are: (33,)\n"
     ]
    },
    {
     "data": {
      "text/plain": [
       "array([  1,   2,   3,   4,   5,   6,   7,   8,   9,  10,  11, 735, 736,\n",
       "       737, 738, 739, 740, 741, 742, 743, 744, 745, 385, 386, 387, 388,\n",
       "       389, 390, 391, 392, 393, 394, 395])"
      ]
     },
     "execution_count": 32,
     "metadata": {},
     "output_type": "execute_result"
    }
   ],
   "source": [
    "#lags LSTM for PSO Solution\n",
    "lag1=np.arange(1,12,1)\n",
    "lag2=np.arange(735,746,1)\n",
    "lag3=np.arange(385,396,1)\n",
    "lag=np.concatenate([lag1,lag2,lag3])\n",
    "print('The number of lags are:',lag.shape)\n",
    "lag"
   ]
  },
  {
   "cell_type": "code",
   "execution_count": 7,
   "metadata": {},
   "outputs": [
    {
     "name": "stdout",
     "output_type": "stream",
     "text": [
      "The number of lags are: (30,)\n"
     ]
    },
    {
     "data": {
      "text/plain": [
       "array([  1,   2,   3,   4,   5,   6,   7,   8,   9,  10,  48,  49,  50,\n",
       "        51,  52,  53,  54,  55,  56,  57, 336, 337, 338, 339, 340, 341,\n",
       "       342, 343, 344, 345])"
      ]
     },
     "execution_count": 7,
     "metadata": {},
     "output_type": "execute_result"
    }
   ],
   "source": [
    "#lags LSTM\n",
    "lag1=np.arange(1,11,1)\n",
    "lag2=np.arange(48,58,1)\n",
    "lag3=np.arange(336,346,1)\n",
    "lag=np.concatenate([lag1,lag2,lag3])\n",
    "print('The number of lags are:',lag.shape)\n",
    "lag"
   ]
  },
  {
   "cell_type": "code",
   "execution_count": 8,
   "metadata": {},
   "outputs": [],
   "source": [
    "df1=df\n",
    "for col in df.columns:\n",
    "    for l in lag:\n",
    "        df.loc[:,col+\"_\"+str(l)] = df[col].shift(l)"
   ]
  },
  {
   "cell_type": "code",
   "execution_count": 9,
   "metadata": {},
   "outputs": [
    {
     "data": {
      "text/html": [
       "<div>\n",
       "<style scoped>\n",
       "    .dataframe tbody tr th:only-of-type {\n",
       "        vertical-align: middle;\n",
       "    }\n",
       "\n",
       "    .dataframe tbody tr th {\n",
       "        vertical-align: top;\n",
       "    }\n",
       "\n",
       "    .dataframe thead th {\n",
       "        text-align: right;\n",
       "    }\n",
       "</style>\n",
       "<table border=\"1\" class=\"dataframe\">\n",
       "  <thead>\n",
       "    <tr style=\"text-align: right;\">\n",
       "      <th></th>\n",
       "      <th>Consumption</th>\n",
       "      <th>Consumption_1</th>\n",
       "      <th>Consumption_2</th>\n",
       "      <th>Consumption_3</th>\n",
       "      <th>Consumption_4</th>\n",
       "      <th>Consumption_5</th>\n",
       "      <th>Consumption_6</th>\n",
       "      <th>Consumption_7</th>\n",
       "      <th>Consumption_8</th>\n",
       "      <th>Consumption_9</th>\n",
       "      <th>...</th>\n",
       "      <th>Consumption_336</th>\n",
       "      <th>Consumption_337</th>\n",
       "      <th>Consumption_338</th>\n",
       "      <th>Consumption_339</th>\n",
       "      <th>Consumption_340</th>\n",
       "      <th>Consumption_341</th>\n",
       "      <th>Consumption_342</th>\n",
       "      <th>Consumption_343</th>\n",
       "      <th>Consumption_344</th>\n",
       "      <th>Consumption_345</th>\n",
       "    </tr>\n",
       "  </thead>\n",
       "  <tbody>\n",
       "    <tr>\n",
       "      <th>0</th>\n",
       "      <td>0.48</td>\n",
       "      <td>nan</td>\n",
       "      <td>nan</td>\n",
       "      <td>nan</td>\n",
       "      <td>nan</td>\n",
       "      <td>nan</td>\n",
       "      <td>nan</td>\n",
       "      <td>nan</td>\n",
       "      <td>nan</td>\n",
       "      <td>nan</td>\n",
       "      <td>...</td>\n",
       "      <td>nan</td>\n",
       "      <td>nan</td>\n",
       "      <td>nan</td>\n",
       "      <td>nan</td>\n",
       "      <td>nan</td>\n",
       "      <td>nan</td>\n",
       "      <td>nan</td>\n",
       "      <td>nan</td>\n",
       "      <td>nan</td>\n",
       "      <td>nan</td>\n",
       "    </tr>\n",
       "    <tr>\n",
       "      <th>1</th>\n",
       "      <td>0.48</td>\n",
       "      <td>0.48</td>\n",
       "      <td>nan</td>\n",
       "      <td>nan</td>\n",
       "      <td>nan</td>\n",
       "      <td>nan</td>\n",
       "      <td>nan</td>\n",
       "      <td>nan</td>\n",
       "      <td>nan</td>\n",
       "      <td>nan</td>\n",
       "      <td>...</td>\n",
       "      <td>nan</td>\n",
       "      <td>nan</td>\n",
       "      <td>nan</td>\n",
       "      <td>nan</td>\n",
       "      <td>nan</td>\n",
       "      <td>nan</td>\n",
       "      <td>nan</td>\n",
       "      <td>nan</td>\n",
       "      <td>nan</td>\n",
       "      <td>nan</td>\n",
       "    </tr>\n",
       "    <tr>\n",
       "      <th>2</th>\n",
       "      <td>0.48</td>\n",
       "      <td>0.48</td>\n",
       "      <td>0.48</td>\n",
       "      <td>nan</td>\n",
       "      <td>nan</td>\n",
       "      <td>nan</td>\n",
       "      <td>nan</td>\n",
       "      <td>nan</td>\n",
       "      <td>nan</td>\n",
       "      <td>nan</td>\n",
       "      <td>...</td>\n",
       "      <td>nan</td>\n",
       "      <td>nan</td>\n",
       "      <td>nan</td>\n",
       "      <td>nan</td>\n",
       "      <td>nan</td>\n",
       "      <td>nan</td>\n",
       "      <td>nan</td>\n",
       "      <td>nan</td>\n",
       "      <td>nan</td>\n",
       "      <td>nan</td>\n",
       "    </tr>\n",
       "    <tr>\n",
       "      <th>3</th>\n",
       "      <td>0.48</td>\n",
       "      <td>0.48</td>\n",
       "      <td>0.48</td>\n",
       "      <td>0.48</td>\n",
       "      <td>nan</td>\n",
       "      <td>nan</td>\n",
       "      <td>nan</td>\n",
       "      <td>nan</td>\n",
       "      <td>nan</td>\n",
       "      <td>nan</td>\n",
       "      <td>...</td>\n",
       "      <td>nan</td>\n",
       "      <td>nan</td>\n",
       "      <td>nan</td>\n",
       "      <td>nan</td>\n",
       "      <td>nan</td>\n",
       "      <td>nan</td>\n",
       "      <td>nan</td>\n",
       "      <td>nan</td>\n",
       "      <td>nan</td>\n",
       "      <td>nan</td>\n",
       "    </tr>\n",
       "    <tr>\n",
       "      <th>4</th>\n",
       "      <td>0.45</td>\n",
       "      <td>0.48</td>\n",
       "      <td>0.48</td>\n",
       "      <td>0.48</td>\n",
       "      <td>0.48</td>\n",
       "      <td>nan</td>\n",
       "      <td>nan</td>\n",
       "      <td>nan</td>\n",
       "      <td>nan</td>\n",
       "      <td>nan</td>\n",
       "      <td>...</td>\n",
       "      <td>nan</td>\n",
       "      <td>nan</td>\n",
       "      <td>nan</td>\n",
       "      <td>nan</td>\n",
       "      <td>nan</td>\n",
       "      <td>nan</td>\n",
       "      <td>nan</td>\n",
       "      <td>nan</td>\n",
       "      <td>nan</td>\n",
       "      <td>nan</td>\n",
       "    </tr>\n",
       "  </tbody>\n",
       "</table>\n",
       "<p>5 rows × 31 columns</p>\n",
       "</div>"
      ],
      "text/plain": [
       "   Consumption  Consumption_1  Consumption_2  Consumption_3  Consumption_4  \\\n",
       "0         0.48            nan            nan            nan            nan   \n",
       "1         0.48           0.48            nan            nan            nan   \n",
       "2         0.48           0.48           0.48            nan            nan   \n",
       "3         0.48           0.48           0.48           0.48            nan   \n",
       "4         0.45           0.48           0.48           0.48           0.48   \n",
       "\n",
       "   Consumption_5  Consumption_6  Consumption_7  Consumption_8  Consumption_9  \\\n",
       "0            nan            nan            nan            nan            nan   \n",
       "1            nan            nan            nan            nan            nan   \n",
       "2            nan            nan            nan            nan            nan   \n",
       "3            nan            nan            nan            nan            nan   \n",
       "4            nan            nan            nan            nan            nan   \n",
       "\n",
       "        ...         Consumption_336  Consumption_337  Consumption_338  \\\n",
       "0       ...                     nan              nan              nan   \n",
       "1       ...                     nan              nan              nan   \n",
       "2       ...                     nan              nan              nan   \n",
       "3       ...                     nan              nan              nan   \n",
       "4       ...                     nan              nan              nan   \n",
       "\n",
       "   Consumption_339  Consumption_340  Consumption_341  Consumption_342  \\\n",
       "0              nan              nan              nan              nan   \n",
       "1              nan              nan              nan              nan   \n",
       "2              nan              nan              nan              nan   \n",
       "3              nan              nan              nan              nan   \n",
       "4              nan              nan              nan              nan   \n",
       "\n",
       "   Consumption_343  Consumption_344  Consumption_345  \n",
       "0              nan              nan              nan  \n",
       "1              nan              nan              nan  \n",
       "2              nan              nan              nan  \n",
       "3              nan              nan              nan  \n",
       "4              nan              nan              nan  \n",
       "\n",
       "[5 rows x 31 columns]"
      ]
     },
     "execution_count": 9,
     "metadata": {},
     "output_type": "execute_result"
    }
   ],
   "source": [
    "df.head()"
   ]
  },
  {
   "cell_type": "code",
   "execution_count": 10,
   "metadata": {},
   "outputs": [
    {
     "name": "stdout",
     "output_type": "stream",
     "text": [
      "(157474, 31)\n"
     ]
    },
    {
     "data": {
      "text/plain": [
       "array([[0.41629252, 0.38997638, 0.3881529 , ..., 0.47953418, 0.4796447 ,\n",
       "        0.47620496],\n",
       "       [0.43726256, 0.41629252, 0.38997638, ..., 0.47834617, 0.47953418,\n",
       "        0.4796447 ],\n",
       "       [0.4889417 , 0.43726256, 0.41629252, ..., 0.45179516, 0.47834617,\n",
       "        0.47953418],\n",
       "       ...,\n",
       "       [0.59260386, 0.6127174 , 0.637887  , ..., 0.43927944, 0.4064706 ,\n",
       "        0.39167553],\n",
       "       [0.57800215, 0.59260386, 0.6127174 , ..., 0.46280512, 0.43927944,\n",
       "        0.4064706 ],\n",
       "       [0.5707497 , 0.57800215, 0.59260386, ..., 0.46331626, 0.46280512,\n",
       "        0.43927944]], dtype=float32)"
      ]
     },
     "execution_count": 10,
     "metadata": {},
     "output_type": "execute_result"
    }
   ],
   "source": [
    "df.dropna(how='any',inplace=True)\n",
    "dataset = df.values # Converted dataframe to numpy ndarray\n",
    "dataset = dataset.astype('float32')\n",
    "print(dataset.shape)\n",
    "dataset"
   ]
  },
  {
   "cell_type": "code",
   "execution_count": 11,
   "metadata": {},
   "outputs": [
    {
     "name": "stdout",
     "output_type": "stream",
     "text": [
      "116530 40944\n"
     ]
    }
   ],
   "source": [
    "# split into train and test sets\n",
    "#train_size = int(len(dataset) * (0.884))\n",
    "train_size = int(len(dataset) * 0.74)\n",
    "test_size = len(dataset) - train_size\n",
    "train, test = dataset[0:train_size,:], dataset[train_size:len(dataset),:]\n",
    "print(len(train), len(test))"
   ]
  },
  {
   "cell_type": "code",
   "execution_count": 12,
   "metadata": {},
   "outputs": [],
   "source": [
    "trainX=train[:,1:]\n",
    "trainY=train[:,0]\n",
    "testX=test[:,1:]\n",
    "testY=test[:,0]"
   ]
  },
  {
   "cell_type": "code",
   "execution_count": 13,
   "metadata": {},
   "outputs": [
    {
     "name": "stdout",
     "output_type": "stream",
     "text": [
      "(116530, 30)\n",
      "(40944, 30)\n",
      "(116530,)\n",
      "(40944,)\n"
     ]
    }
   ],
   "source": [
    "print(trainX.shape)\n",
    "print(testX.shape)\n",
    "print(trainY.shape)\n",
    "print(testY.shape)"
   ]
  },
  {
   "cell_type": "code",
   "execution_count": null,
   "metadata": {},
   "outputs": [],
   "source": [
    "#GRU\n",
    "# reshape input to be [samples, time steps, features]\n",
    "trainX = numpy.reshape(trainX, (trainX.shape[0],20,3))\n",
    "testX = numpy.reshape(testX, (testX.shape[0],20,3))"
   ]
  },
  {
   "cell_type": "code",
   "execution_count": 14,
   "metadata": {},
   "outputs": [],
   "source": [
    "#LSTM\n",
    "# reshape input to be [samples, time steps, features]\n",
    "trainX = numpy.reshape(trainX, (trainX.shape[0],10,3))\n",
    "testX = numpy.reshape(testX, (testX.shape[0],10,3))"
   ]
  },
  {
   "cell_type": "code",
   "execution_count": 15,
   "metadata": {},
   "outputs": [
    {
     "name": "stdout",
     "output_type": "stream",
     "text": [
      "(116530,)\n",
      "(40944,)\n",
      "(116530, 10, 3)\n",
      "(40944, 10, 3)\n"
     ]
    }
   ],
   "source": [
    "print(trainY.shape)\n",
    "print(testY.shape)\n",
    "print(trainX.shape)\n",
    "print(testX.shape)"
   ]
  },
  {
   "cell_type": "code",
   "execution_count": 16,
   "metadata": {},
   "outputs": [],
   "source": [
    "from keras.callbacks import EarlyStopping\n",
    "import time"
   ]
  },
  {
   "cell_type": "markdown",
   "metadata": {},
   "source": [
    "### (A) GRU MODEL"
   ]
  },
  {
   "cell_type": "code",
   "execution_count": null,
   "metadata": {},
   "outputs": [],
   "source": [
    "# create and fit the GRU network\n",
    "model = Sequential() # New Instance of Model Object\n",
    "model.add(GRU(60, input_shape=(20,3)))\n",
    "model.add(Dense(40, activation='relu'))\n",
    "model.add(Dense(70, activation='relu'))\n",
    "model.add(Dense(50, activation='relu'))\n",
    "model.add(Dense(1, activation='linear'))\n",
    "model.compile(loss='mean_squared_error', optimizer='ADAM')\n",
    "\n",
    "start = time.time()\n",
    "hist =model.fit(trainX, trainY, epochs=125, shuffle=True,batch_size=125, validation_data=(testX, testY), \n",
    "                callbacks=[EarlyStopping(monitor='val_loss', patience=25)], verbose=1)\n",
    "\n",
    "end = time.time()\n",
    "# Training Phase\n",
    "model.summary()"
   ]
  },
  {
   "cell_type": "code",
   "execution_count": null,
   "metadata": {},
   "outputs": [],
   "source": [
    "from keras.layers.advanced_activations import LeakyReLU, PReLU"
   ]
  },
  {
   "cell_type": "markdown",
   "metadata": {},
   "source": [
    "## (B) LSTM MODEL"
   ]
  },
  {
   "cell_type": "code",
   "execution_count": 17,
   "metadata": {
    "scrolled": true
   },
   "outputs": [
    {
     "name": "stdout",
     "output_type": "stream",
     "text": [
      "Train on 116530 samples, validate on 40944 samples\n",
      "Epoch 1/130\n",
      "116530/116530 [==============================] - 7s 62us/step - loss: 0.0027 - val_loss: 4.1412e-04\n",
      "Epoch 2/130\n",
      "116530/116530 [==============================] - 7s 61us/step - loss: 2.7573e-04 - val_loss: 2.3181e-04\n",
      "Epoch 3/130\n",
      "116530/116530 [==============================] - 7s 57us/step - loss: 1.4968e-04 - val_loss: 1.0147e-04\n",
      "Epoch 4/130\n",
      "116530/116530 [==============================] - 6s 50us/step - loss: 1.1561e-04 - val_loss: 7.8912e-05\n",
      "Epoch 5/130\n",
      "116530/116530 [==============================] - 6s 55us/step - loss: 1.1195e-04 - val_loss: 9.6019e-05\n",
      "Epoch 6/130\n",
      "116530/116530 [==============================] - 6s 50us/step - loss: 1.0436e-04 - val_loss: 9.9093e-05\n",
      "Epoch 7/130\n",
      "116530/116530 [==============================] - 6s 51us/step - loss: 9.2251e-05 - val_loss: 8.8649e-05\n",
      "Epoch 8/130\n",
      "116530/116530 [==============================] - 6s 51us/step - loss: 9.1095e-05 - val_loss: 7.1995e-05\n",
      "Epoch 9/130\n",
      "116530/116530 [==============================] - 6s 51us/step - loss: 8.6800e-05 - val_loss: 6.9323e-05\n",
      "Epoch 10/130\n",
      "116530/116530 [==============================] - 6s 52us/step - loss: 8.1662e-05 - val_loss: 1.5225e-04\n",
      "Epoch 11/130\n",
      "116530/116530 [==============================] - 6s 48us/step - loss: 8.2230e-05 - val_loss: 1.1612e-04\n",
      "Epoch 12/130\n",
      "116530/116530 [==============================] - 6s 53us/step - loss: 7.6973e-05 - val_loss: 1.7444e-04\n",
      "Epoch 13/130\n",
      "116530/116530 [==============================] - 7s 60us/step - loss: 7.7114e-05 - val_loss: 7.3824e-05\n",
      "Epoch 14/130\n",
      "116530/116530 [==============================] - 6s 53us/step - loss: 6.8968e-05 - val_loss: 6.6266e-05\n",
      "Epoch 15/130\n",
      "116530/116530 [==============================] - 6s 52us/step - loss: 7.1174e-05 - val_loss: 6.0454e-05\n",
      "Epoch 16/130\n",
      "116530/116530 [==============================] - 6s 49us/step - loss: 6.4877e-05 - val_loss: 7.1450e-05\n",
      "Epoch 17/130\n",
      "116530/116530 [==============================] - 6s 49us/step - loss: 5.8726e-05 - val_loss: 5.8258e-05\n",
      "Epoch 18/130\n",
      "116530/116530 [==============================] - 6s 51us/step - loss: 5.5716e-05 - val_loss: 5.2275e-05\n",
      "Epoch 19/130\n",
      "116530/116530 [==============================] - 6s 49us/step - loss: 4.6892e-05 - val_loss: 3.9483e-05\n",
      "Epoch 20/130\n",
      "116530/116530 [==============================] - 6s 49us/step - loss: 4.5515e-05 - val_loss: 3.6785e-05\n",
      "Epoch 21/130\n",
      "116530/116530 [==============================] - 6s 54us/step - loss: 4.2461e-05 - val_loss: 3.5167e-05\n",
      "Epoch 22/130\n",
      "116530/116530 [==============================] - 7s 57us/step - loss: 4.0227e-05 - val_loss: 4.7500e-05\n",
      "Epoch 23/130\n",
      "116530/116530 [==============================] - 6s 54us/step - loss: 3.7354e-05 - val_loss: 3.1884e-05\n",
      "Epoch 24/130\n",
      "116530/116530 [==============================] - 7s 56us/step - loss: 3.5642e-05 - val_loss: 5.1157e-05\n",
      "Epoch 25/130\n",
      "116530/116530 [==============================] - 6s 53us/step - loss: 3.4625e-05 - val_loss: 2.7828e-05\n",
      "Epoch 26/130\n",
      "116530/116530 [==============================] - 6s 54us/step - loss: 3.2247e-05 - val_loss: 3.2276e-05\n",
      "Epoch 27/130\n",
      "116530/116530 [==============================] - 6s 51us/step - loss: 3.3857e-05 - val_loss: 3.2044e-05\n",
      "Epoch 28/130\n",
      "116530/116530 [==============================] - 7s 56us/step - loss: 3.3121e-05 - val_loss: 3.6523e-05\n",
      "Epoch 29/130\n",
      "116530/116530 [==============================] - 6s 54us/step - loss: 3.2070e-05 - val_loss: 3.2027e-05\n",
      "Epoch 30/130\n",
      "116530/116530 [==============================] - 6s 50us/step - loss: 3.0494e-05 - val_loss: 2.2344e-05\n",
      "Epoch 31/130\n",
      "116530/116530 [==============================] - 7s 58us/step - loss: 3.0115e-05 - val_loss: 3.0546e-05\n",
      "Epoch 32/130\n",
      "116530/116530 [==============================] - 7s 58us/step - loss: 3.0728e-05 - val_loss: 3.1814e-05\n",
      "Epoch 33/130\n",
      "116530/116530 [==============================] - 7s 59us/step - loss: 2.9415e-05 - val_loss: 2.2838e-05\n",
      "Epoch 34/130\n",
      "116530/116530 [==============================] - 6s 56us/step - loss: 3.0228e-05 - val_loss: 2.9470e-05\n",
      "Epoch 35/130\n",
      "116530/116530 [==============================] - 7s 60us/step - loss: 3.0457e-05 - val_loss: 2.3130e-05\n",
      "Epoch 36/130\n",
      "116530/116530 [==============================] - 7s 58us/step - loss: 2.8772e-05 - val_loss: 2.3639e-05\n",
      "Epoch 37/130\n",
      "116530/116530 [==============================] - 7s 57us/step - loss: 3.0429e-05 - val_loss: 2.8020e-05\n",
      "Epoch 38/130\n",
      "116530/116530 [==============================] - 7s 60us/step - loss: 2.9892e-05 - val_loss: 3.4034e-05\n",
      "Epoch 39/130\n",
      "116530/116530 [==============================] - 7s 60us/step - loss: 2.9150e-05 - val_loss: 3.7165e-05\n",
      "Epoch 40/130\n",
      "116530/116530 [==============================] - 7s 58us/step - loss: 2.9265e-05 - val_loss: 3.6791e-05\n",
      "Epoch 41/130\n",
      "116530/116530 [==============================] - 7s 59us/step - loss: 2.9878e-05 - val_loss: 2.3079e-05\n",
      "Epoch 42/130\n",
      "116530/116530 [==============================] - 6s 55us/step - loss: 2.8530e-05 - val_loss: 2.2380e-05\n",
      "Epoch 43/130\n",
      "116530/116530 [==============================] - 6s 55us/step - loss: 2.8524e-05 - val_loss: 2.8212e-05\n",
      "Epoch 44/130\n",
      "116530/116530 [==============================] - 6s 54us/step - loss: 2.9406e-05 - val_loss: 2.4426e-05\n",
      "Epoch 45/130\n",
      "116530/116530 [==============================] - 6s 55us/step - loss: 2.8009e-05 - val_loss: 2.4097e-05\n",
      "Epoch 46/130\n",
      "116530/116530 [==============================] - 7s 56us/step - loss: 2.7766e-05 - val_loss: 2.1009e-05\n",
      "Epoch 47/130\n",
      "116530/116530 [==============================] - 7s 60us/step - loss: 2.9083e-05 - val_loss: 3.3303e-05\n",
      "Epoch 48/130\n",
      "116530/116530 [==============================] - 6s 55us/step - loss: 2.8574e-05 - val_loss: 2.0835e-05\n",
      "Epoch 49/130\n",
      "116530/116530 [==============================] - 6s 54us/step - loss: 2.7336e-05 - val_loss: 3.2809e-05\n",
      "Epoch 50/130\n",
      "116530/116530 [==============================] - 6s 54us/step - loss: 2.7900e-05 - val_loss: 2.5343e-05\n",
      "Epoch 51/130\n",
      "116530/116530 [==============================] - 6s 53us/step - loss: 2.9197e-05 - val_loss: 2.3449e-05\n",
      "Epoch 52/130\n",
      "116530/116530 [==============================] - 7s 57us/step - loss: 2.6157e-05 - val_loss: 5.0597e-05\n",
      "Epoch 53/130\n",
      "116530/116530 [==============================] - 7s 60us/step - loss: 2.8031e-05 - val_loss: 3.3007e-05\n",
      "Epoch 54/130\n",
      "116530/116530 [==============================] - 7s 59us/step - loss: 2.7521e-05 - val_loss: 2.6282e-05\n",
      "Epoch 55/130\n",
      "116530/116530 [==============================] - 7s 63us/step - loss: 2.6600e-05 - val_loss: 2.2815e-05\n",
      "Epoch 56/130\n",
      "116530/116530 [==============================] - 7s 62us/step - loss: 2.6920e-05 - val_loss: 2.1489e-05\n",
      "Epoch 57/130\n",
      "116530/116530 [==============================] - 7s 61us/step - loss: 2.7218e-05 - val_loss: 2.3258e-05\n",
      "Epoch 58/130\n",
      "116530/116530 [==============================] - 7s 60us/step - loss: 2.6721e-05 - val_loss: 2.3834e-05\n",
      "Epoch 59/130\n",
      "116530/116530 [==============================] - 7s 58us/step - loss: 2.6574e-05 - val_loss: 2.1025e-05\n",
      "Epoch 60/130\n",
      "116530/116530 [==============================] - 6s 55us/step - loss: 2.6717e-05 - val_loss: 2.5052e-05\n",
      "Epoch 61/130\n",
      "116530/116530 [==============================] - 7s 58us/step - loss: 2.5903e-05 - val_loss: 2.6186e-05\n",
      "Epoch 62/130\n",
      "116530/116530 [==============================] - 7s 58us/step - loss: 2.7045e-05 - val_loss: 2.0245e-05\n",
      "Epoch 63/130\n",
      "116530/116530 [==============================] - 7s 57us/step - loss: 2.6913e-05 - val_loss: 2.2169e-05\n",
      "Epoch 64/130\n",
      "116530/116530 [==============================] - 7s 61us/step - loss: 2.6515e-05 - val_loss: 2.3904e-05\n",
      "Epoch 65/130\n",
      "116530/116530 [==============================] - 7s 60us/step - loss: 2.5769e-05 - val_loss: 2.5235e-05\n",
      "Epoch 66/130\n",
      "116530/116530 [==============================] - 7s 60us/step - loss: 2.6479e-05 - val_loss: 2.0402e-05\n",
      "Epoch 67/130\n",
      "116530/116530 [==============================] - 7s 60us/step - loss: 2.6139e-05 - val_loss: 2.1813e-05\n",
      "Epoch 68/130\n",
      "116530/116530 [==============================] - 7s 58us/step - loss: 2.5171e-05 - val_loss: 2.7544e-05\n",
      "Epoch 69/130\n",
      "116530/116530 [==============================] - 7s 58us/step - loss: 2.6961e-05 - val_loss: 2.6230e-05\n",
      "Epoch 70/130\n"
     ]
    },
    {
     "name": "stdout",
     "output_type": "stream",
     "text": [
      "116530/116530 [==============================] - 6s 54us/step - loss: 2.6038e-05 - val_loss: 2.1117e-05\n",
      "Epoch 71/130\n",
      "116530/116530 [==============================] - 7s 56us/step - loss: 2.5668e-05 - val_loss: 1.9642e-05\n",
      "Epoch 72/130\n",
      "116530/116530 [==============================] - 6s 53us/step - loss: 2.5466e-05 - val_loss: 2.0667e-05\n",
      "Epoch 73/130\n",
      "116530/116530 [==============================] - 6s 52us/step - loss: 2.5384e-05 - val_loss: 2.1049e-05\n",
      "Epoch 74/130\n",
      "116530/116530 [==============================] - 6s 56us/step - loss: 2.5427e-05 - val_loss: 2.0332e-05\n",
      "Epoch 75/130\n",
      "116530/116530 [==============================] - 6s 49us/step - loss: 2.4904e-05 - val_loss: 2.4388e-05\n",
      "Epoch 76/130\n",
      "116530/116530 [==============================] - 6s 48us/step - loss: 2.4457e-05 - val_loss: 2.9442e-05\n",
      "Epoch 77/130\n",
      "116530/116530 [==============================] - 6s 49us/step - loss: 2.4741e-05 - val_loss: 2.2372e-05\n",
      "Epoch 78/130\n",
      "116530/116530 [==============================] - 6s 51us/step - loss: 2.5573e-05 - val_loss: 1.9159e-05\n",
      "Epoch 79/130\n",
      "116530/116530 [==============================] - 6s 51us/step - loss: 2.4252e-05 - val_loss: 1.9262e-05\n",
      "Epoch 80/130\n",
      "116530/116530 [==============================] - 6s 50us/step - loss: 2.5117e-05 - val_loss: 3.3623e-05\n",
      "Epoch 81/130\n",
      "116530/116530 [==============================] - 6s 53us/step - loss: 2.4118e-05 - val_loss: 2.2931e-05\n",
      "Epoch 82/130\n",
      "116530/116530 [==============================] - 6s 51us/step - loss: 2.5554e-05 - val_loss: 1.8018e-05\n",
      "Epoch 83/130\n",
      "116530/116530 [==============================] - 6s 55us/step - loss: 2.4786e-05 - val_loss: 1.8901e-05\n",
      "Epoch 84/130\n",
      "116530/116530 [==============================] - 6s 50us/step - loss: 2.3889e-05 - val_loss: 2.2449e-05\n",
      "Epoch 85/130\n",
      "116530/116530 [==============================] - 6s 52us/step - loss: 2.4038e-05 - val_loss: 1.9485e-05\n",
      "Epoch 86/130\n",
      "116530/116530 [==============================] - 6s 50us/step - loss: 2.4379e-05 - val_loss: 2.5741e-05\n",
      "Epoch 87/130\n",
      "116530/116530 [==============================] - 6s 48us/step - loss: 2.3149e-05 - val_loss: 1.8625e-05\n",
      "Epoch 88/130\n",
      "116530/116530 [==============================] - 5s 47us/step - loss: 2.3637e-05 - val_loss: 1.7757e-05\n",
      "Epoch 89/130\n",
      "116530/116530 [==============================] - 6s 47us/step - loss: 2.5601e-05 - val_loss: 2.4396e-05\n",
      "Epoch 90/130\n",
      "116530/116530 [==============================] - 6s 48us/step - loss: 2.2282e-05 - val_loss: 4.0675e-05\n",
      "Epoch 91/130\n",
      "116530/116530 [==============================] - 6s 48us/step - loss: 2.3826e-05 - val_loss: 2.1432e-05\n",
      "Epoch 92/130\n",
      "116530/116530 [==============================] - 6s 48us/step - loss: 2.2629e-05 - val_loss: 1.9128e-05\n",
      "Epoch 93/130\n",
      "116530/116530 [==============================] - 7s 58us/step - loss: 2.3004e-05 - val_loss: 2.2810e-05\n",
      "Epoch 94/130\n",
      "116530/116530 [==============================] - 6s 54us/step - loss: 2.2574e-05 - val_loss: 2.0013e-05\n",
      "Epoch 95/130\n",
      "116530/116530 [==============================] - 6s 53us/step - loss: 2.3209e-05 - val_loss: 2.1829e-05\n",
      "Epoch 96/130\n",
      "116530/116530 [==============================] - 6s 53us/step - loss: 2.2493e-05 - val_loss: 1.9863e-05\n",
      "Epoch 97/130\n",
      "116530/116530 [==============================] - 6s 52us/step - loss: 2.2484e-05 - val_loss: 1.8483e-05\n",
      "Epoch 98/130\n",
      "116530/116530 [==============================] - 6s 54us/step - loss: 2.2632e-05 - val_loss: 1.7904e-05\n",
      "Epoch 99/130\n",
      "116530/116530 [==============================] - 6s 52us/step - loss: 2.2608e-05 - val_loss: 1.8529e-05\n",
      "Epoch 100/130\n",
      "116530/116530 [==============================] - 6s 52us/step - loss: 2.0467e-05 - val_loss: 2.0814e-05\n",
      "Epoch 101/130\n",
      "116530/116530 [==============================] - 6s 54us/step - loss: 2.1407e-05 - val_loss: 2.1041e-05\n",
      "Epoch 102/130\n",
      "116530/116530 [==============================] - 6s 52us/step - loss: 2.1497e-05 - val_loss: 2.4293e-05\n",
      "Epoch 103/130\n",
      "116530/116530 [==============================] - 6s 53us/step - loss: 2.1179e-05 - val_loss: 2.9573e-05\n",
      "Epoch 104/130\n",
      "116530/116530 [==============================] - 6s 52us/step - loss: 2.0280e-05 - val_loss: 3.0333e-05\n",
      "Epoch 105/130\n",
      "116530/116530 [==============================] - 6s 52us/step - loss: 2.0250e-05 - val_loss: 1.8767e-05\n",
      "Epoch 106/130\n",
      "116530/116530 [==============================] - 6s 53us/step - loss: 1.9655e-05 - val_loss: 4.7335e-05\n",
      "Epoch 107/130\n",
      "116530/116530 [==============================] - 6s 52us/step - loss: 2.0072e-05 - val_loss: 1.6559e-05\n",
      "Epoch 108/130\n",
      "116530/116530 [==============================] - 6s 53us/step - loss: 2.0149e-05 - val_loss: 2.7861e-05\n",
      "Epoch 109/130\n",
      "116530/116530 [==============================] - 6s 53us/step - loss: 1.9605e-05 - val_loss: 2.3535e-05\n",
      "Epoch 110/130\n",
      "116530/116530 [==============================] - 6s 52us/step - loss: 1.9652e-05 - val_loss: 1.6992e-05\n",
      "Epoch 111/130\n",
      "116530/116530 [==============================] - 6s 53us/step - loss: 1.9393e-05 - val_loss: 1.7773e-05\n",
      "Epoch 112/130\n",
      "116530/116530 [==============================] - 6s 55us/step - loss: 1.9514e-05 - val_loss: 2.1289e-05\n",
      "Epoch 113/130\n",
      "116530/116530 [==============================] - 6s 53us/step - loss: 1.9489e-05 - val_loss: 2.2847e-05\n",
      "Epoch 114/130\n",
      "116530/116530 [==============================] - 6s 55us/step - loss: 1.9111e-05 - val_loss: 1.5780e-05\n",
      "Epoch 115/130\n",
      "116530/116530 [==============================] - 6s 52us/step - loss: 1.9356e-05 - val_loss: 1.8341e-05\n",
      "Epoch 116/130\n",
      "116530/116530 [==============================] - 6s 54us/step - loss: 1.9070e-05 - val_loss: 1.4763e-05\n",
      "Epoch 117/130\n",
      "116530/116530 [==============================] - 6s 49us/step - loss: 1.8624e-05 - val_loss: 2.1362e-05\n",
      "Epoch 118/130\n",
      "116530/116530 [==============================] - 6s 49us/step - loss: 1.9482e-05 - val_loss: 1.5284e-05\n",
      "Epoch 119/130\n",
      "116530/116530 [==============================] - 6s 52us/step - loss: 1.9202e-05 - val_loss: 4.0240e-05\n",
      "Epoch 120/130\n",
      "116530/116530 [==============================] - 6s 51us/step - loss: 1.8154e-05 - val_loss: 2.4907e-05\n",
      "Epoch 121/130\n",
      "116530/116530 [==============================] - 6s 50us/step - loss: 1.8889e-05 - val_loss: 1.7753e-05\n",
      "Epoch 122/130\n",
      "116530/116530 [==============================] - 6s 55us/step - loss: 1.9420e-05 - val_loss: 1.5739e-05\n",
      "Epoch 123/130\n",
      "116530/116530 [==============================] - 6s 49us/step - loss: 1.8248e-05 - val_loss: 2.0154e-05\n",
      "Epoch 124/130\n",
      "116530/116530 [==============================] - 6s 54us/step - loss: 1.8178e-05 - val_loss: 1.6062e-05\n",
      "Epoch 125/130\n",
      "116530/116530 [==============================] - 6s 54us/step - loss: 1.7990e-05 - val_loss: 1.4462e-05\n",
      "Epoch 126/130\n",
      "116530/116530 [==============================] - 6s 54us/step - loss: 1.8017e-05 - val_loss: 1.4190e-05\n",
      "Epoch 127/130\n",
      "116530/116530 [==============================] - 7s 56us/step - loss: 1.7979e-05 - val_loss: 1.8760e-05\n",
      "Epoch 128/130\n",
      "116530/116530 [==============================] - 6s 53us/step - loss: 1.8398e-05 - val_loss: 2.0474e-05\n",
      "Epoch 129/130\n",
      "116530/116530 [==============================] - 7s 56us/step - loss: 1.7958e-05 - val_loss: 1.8479e-05\n",
      "Epoch 130/130\n",
      "116530/116530 [==============================] - 6s 55us/step - loss: 1.7276e-05 - val_loss: 3.3931e-05\n",
      "_________________________________________________________________\n",
      "Layer (type)                 Output Shape              Param #   \n",
      "=================================================================\n",
      "lstm_1 (LSTM)                (None, 60)                15360     \n",
      "_________________________________________________________________\n",
      "dense_1 (Dense)              (None, 100)               6100      \n",
      "_________________________________________________________________\n",
      "dense_2 (Dense)              (None, 70)                7070      \n",
      "_________________________________________________________________\n",
      "dense_3 (Dense)              (None, 50)                3550      \n",
      "_________________________________________________________________\n",
      "dense_4 (Dense)              (None, 1)                 51        \n",
      "=================================================================\n",
      "Total params: 32,131\n",
      "Trainable params: 32,131\n",
      "Non-trainable params: 0\n",
      "_________________________________________________________________\n"
     ]
    }
   ],
   "source": [
    "# create and fit the LSTM network\n",
    "model = Sequential() # New Instance of Model Object\n",
    "model.add(LSTM(60, input_shape=(10,3)))\n",
    "model.add(Dense(100, activation='relu'))\n",
    "model.add(Dense(70, activation='relu'))\n",
    "model.add(Dense(50, activation='relu'))\n",
    "model.add(Dense(1, activation='linear'))\n",
    "model.compile(loss='mean_squared_error', optimizer='ADAM')\n",
    "\n",
    "start = time.time()\n",
    "hist =model.fit(trainX, trainY, epochs=130, shuffle=True,batch_size=125, validation_data=(testX, testY), \n",
    "                callbacks=[EarlyStopping(monitor='val_loss', patience=45)], verbose=1)\n",
    "\n",
    "end = time.time()\n",
    "# Training Phase\n",
    "model.summary()"
   ]
  },
  {
   "cell_type": "markdown",
   "metadata": {},
   "source": [
    "### (C) GA Solution"
   ]
  },
  {
   "cell_type": "code",
   "execution_count": null,
   "metadata": {},
   "outputs": [
    {
     "name": "stdout",
     "output_type": "stream",
     "text": [
      "Train on 57598 samples, validate on 7559 samples\n",
      "Epoch 1/150\n",
      "57598/57598 [==============================] - 9s 157us/step - loss: 0.0016 - val_loss: 2.5399e-04\n",
      "Epoch 2/150\n",
      "57598/57598 [==============================] - 9s 156us/step - loss: 3.1665e-04 - val_loss: 2.1532e-04\n",
      "Epoch 3/150\n",
      "57598/57598 [==============================] - 9s 156us/step - loss: 2.6246e-04 - val_loss: 1.6799e-04\n",
      "Epoch 4/150\n",
      "57598/57598 [==============================] - 9s 148us/step - loss: 2.2404e-04 - val_loss: 3.8771e-04\n",
      "Epoch 5/150\n",
      "57598/57598 [==============================] - 8s 139us/step - loss: 1.9885e-04 - val_loss: 1.2674e-04\n",
      "Epoch 6/150\n",
      "57598/57598 [==============================] - 8s 138us/step - loss: 1.7385e-04 - val_loss: 3.7283e-04\n",
      "Epoch 7/150\n",
      "57598/57598 [==============================] - 8s 138us/step - loss: 1.5708e-04 - val_loss: 1.1197e-04\n",
      "Epoch 8/150\n",
      "57598/57598 [==============================] - 8s 138us/step - loss: 1.4023e-04 - val_loss: 9.8361e-05\n",
      "Epoch 9/150\n",
      "57598/57598 [==============================] - 8s 146us/step - loss: 1.2432e-04 - val_loss: 7.6077e-05\n",
      "Epoch 10/150\n",
      "57598/57598 [==============================] - 8s 136us/step - loss: 1.0686e-04 - val_loss: 1.4402e-04\n",
      "Epoch 11/150\n",
      "57598/57598 [==============================] - 8s 140us/step - loss: 1.0215e-04 - val_loss: 8.8337e-05\n",
      "Epoch 12/150\n",
      "57598/57598 [==============================] - 8s 141us/step - loss: 8.8741e-05 - val_loss: 1.0093e-04\n",
      "Epoch 13/150\n",
      "57598/57598 [==============================] - 8s 142us/step - loss: 8.9527e-05 - val_loss: 8.9374e-05\n",
      "Epoch 14/150\n",
      "57598/57598 [==============================] - 8s 137us/step - loss: 8.1392e-05 - val_loss: 6.8266e-05\n",
      "Epoch 15/150\n",
      "57598/57598 [==============================] - 8s 140us/step - loss: 7.8353e-05 - val_loss: 8.0356e-05\n",
      "Epoch 16/150\n",
      "57598/57598 [==============================] - 8s 137us/step - loss: 7.8262e-05 - val_loss: 5.9031e-05\n",
      "Epoch 17/150\n",
      "57598/57598 [==============================] - 8s 136us/step - loss: 7.5704e-05 - val_loss: 9.4163e-05\n",
      "Epoch 18/150\n",
      "57598/57598 [==============================] - 8s 136us/step - loss: 7.1486e-05 - val_loss: 1.3927e-04\n",
      "Epoch 19/150\n",
      "57598/57598 [==============================] - 8s 140us/step - loss: 7.2130e-05 - val_loss: 7.7427e-05\n",
      "Epoch 20/150\n",
      "57598/57598 [==============================] - 8s 140us/step - loss: 6.8542e-05 - val_loss: 7.1726e-05\n",
      "Epoch 21/150\n",
      "57598/57598 [==============================] - 8s 141us/step - loss: 6.9790e-05 - val_loss: 7.3104e-05\n",
      "Epoch 22/150\n",
      "57598/57598 [==============================] - 8s 140us/step - loss: 6.7843e-05 - val_loss: 6.2632e-05\n",
      "Epoch 23/150\n",
      "57598/57598 [==============================] - 8s 137us/step - loss: 6.6813e-05 - val_loss: 4.9462e-05\n",
      "Epoch 24/150\n",
      "57598/57598 [==============================] - 8s 141us/step - loss: 6.0082e-05 - val_loss: 7.4606e-05\n",
      "Epoch 25/150\n",
      "57598/57598 [==============================] - 9s 152us/step - loss: 6.3735e-05 - val_loss: 7.7168e-05\n",
      "Epoch 26/150\n",
      "57598/57598 [==============================] - 8s 144us/step - loss: 6.3378e-05 - val_loss: 4.8231e-05\n",
      "Epoch 27/150\n",
      "57598/57598 [==============================] - 8s 141us/step - loss: 6.3529e-05 - val_loss: 5.1599e-05\n",
      "Epoch 28/150\n",
      "57598/57598 [==============================] - 8s 144us/step - loss: 5.9104e-05 - val_loss: 5.4361e-05\n",
      "Epoch 29/150\n",
      "57598/57598 [==============================] - 9s 155us/step - loss: 5.9225e-05 - val_loss: 7.5991e-05\n",
      "Epoch 30/150\n",
      "57598/57598 [==============================] - 8s 146us/step - loss: 5.7685e-05 - val_loss: 5.0192e-05\n",
      "Epoch 31/150\n",
      "57598/57598 [==============================] - 8s 145us/step - loss: 5.8413e-05 - val_loss: 3.9234e-05\n",
      "Epoch 32/150\n",
      "57598/57598 [==============================] - 8s 142us/step - loss: 5.5702e-05 - val_loss: 4.0409e-05\n",
      "Epoch 33/150\n",
      "54434/57598 [===========================>..] - ETA: 0s - loss: 5.4454e-05"
     ]
    }
   ],
   "source": [
    "# create and fit the LSTM network for GA\n",
    "model = Sequential() # New Instance of Model Object\n",
    "model.add(LSTM(110, input_shape=(7,3)))\n",
    "model.add(Dense(100, activation='relu'))\n",
    "model.add(Dense(70, activation='relu'))\n",
    "model.add(Dense(50, activation='relu'))\n",
    "model.add(Dense(1, activation='linear'))\n",
    "model.compile(loss='mean_squared_error', optimizer='Adamax')\n",
    "\n",
    "start = time.time()\n",
    "hist =model.fit(trainX, trainY, epochs=150, shuffle=True,batch_size=34, validation_data=(testX, testY), \n",
    "                callbacks=[EarlyStopping(monitor='val_loss', patience=30)], verbose=1)\n",
    "\n",
    "end = time.time()\n",
    "# Training Phase\n",
    "model.summary()"
   ]
  },
  {
   "cell_type": "markdown",
   "metadata": {},
   "source": [
    "### (D) PSO Solution"
   ]
  },
  {
   "cell_type": "code",
   "execution_count": 46,
   "metadata": {},
   "outputs": [
    {
     "name": "stdout",
     "output_type": "stream",
     "text": [
      "Train on 116234 samples, validate on 40840 samples\n",
      "Epoch 1/200\n",
      "116234/116234 [==============================] - 22s 192us/step - loss: 0.0020 - val_loss: 3.8891e-04\n",
      "Epoch 2/200\n",
      "116234/116234 [==============================] - 21s 182us/step - loss: 3.4393e-04 - val_loss: 2.7013e-04\n",
      "Epoch 3/200\n",
      "116234/116234 [==============================] - 22s 186us/step - loss: 2.9548e-04 - val_loss: 2.8866e-04\n",
      "Epoch 4/200\n",
      "116234/116234 [==============================] - 21s 184us/step - loss: 2.6718e-04 - val_loss: 2.1556e-04\n",
      "Epoch 5/200\n",
      "116234/116234 [==============================] - 21s 180us/step - loss: 2.5068e-04 - val_loss: 4.1544e-04\n",
      "Epoch 6/200\n",
      "116234/116234 [==============================] - 20s 175us/step - loss: 2.3831e-04 - val_loss: 2.3824e-04\n",
      "Epoch 7/200\n",
      "116234/116234 [==============================] - 18s 157us/step - loss: 2.2967e-04 - val_loss: 1.9944e-04\n",
      "Epoch 8/200\n",
      "116234/116234 [==============================] - 18s 151us/step - loss: 2.2065e-04 - val_loss: 2.1084e-04\n",
      "Epoch 9/200\n",
      "116234/116234 [==============================] - 22s 193us/step - loss: 2.1647e-04 - val_loss: 1.9721e-04\n",
      "Epoch 10/200\n",
      "116234/116234 [==============================] - 23s 196us/step - loss: 2.1621e-04 - val_loss: 1.9613e-04\n",
      "Epoch 11/200\n",
      "116234/116234 [==============================] - 22s 187us/step - loss: 2.1211e-04 - val_loss: 2.2865e-04\n",
      "Epoch 12/200\n",
      "116234/116234 [==============================] - 22s 188us/step - loss: 2.0831e-04 - val_loss: 2.0759e-04\n",
      "Epoch 13/200\n",
      "116234/116234 [==============================] - 23s 196us/step - loss: 2.0624e-04 - val_loss: 2.0866e-04\n",
      "Epoch 14/200\n",
      "116234/116234 [==============================] - 25s 218us/step - loss: 2.0357e-04 - val_loss: 2.5631e-04\n",
      "Epoch 15/200\n",
      "116234/116234 [==============================] - 25s 215us/step - loss: 2.0278e-04 - val_loss: 1.8355e-04\n",
      "Epoch 16/200\n",
      "116234/116234 [==============================] - 24s 208us/step - loss: 2.0071e-04 - val_loss: 1.8330e-04\n",
      "Epoch 17/200\n",
      "116234/116234 [==============================] - 23s 202us/step - loss: 1.9705e-04 - val_loss: 1.8664e-04\n",
      "Epoch 18/200\n",
      "116234/116234 [==============================] - 24s 202us/step - loss: 1.9591e-04 - val_loss: 2.2356e-04\n",
      "Epoch 19/200\n",
      "116234/116234 [==============================] - 24s 207us/step - loss: 1.9066e-04 - val_loss: 2.0140e-04\n",
      "Epoch 20/200\n",
      "116234/116234 [==============================] - 22s 186us/step - loss: 1.8529e-04 - val_loss: 2.1568e-04\n",
      "Epoch 21/200\n",
      "116234/116234 [==============================] - 22s 189us/step - loss: 1.7305e-04 - val_loss: 1.7026e-04\n",
      "Epoch 22/200\n",
      "116234/116234 [==============================] - 19s 166us/step - loss: 1.6257e-04 - val_loss: 1.4574e-04\n",
      "Epoch 23/200\n",
      "116234/116234 [==============================] - 17s 146us/step - loss: 1.4574e-04 - val_loss: 1.2841e-04\n",
      "Epoch 24/200\n",
      "116234/116234 [==============================] - 23s 201us/step - loss: 1.3867e-04 - val_loss: 1.2740e-04\n",
      "Epoch 25/200\n",
      "116234/116234 [==============================] - 22s 187us/step - loss: 1.3301e-04 - val_loss: 1.6795e-04\n",
      "Epoch 26/200\n",
      "116234/116234 [==============================] - 21s 180us/step - loss: 1.2858e-04 - val_loss: 1.2601e-04\n",
      "Epoch 27/200\n",
      "116234/116234 [==============================] - 21s 182us/step - loss: 1.2362e-04 - val_loss: 1.1003e-04\n",
      "Epoch 28/200\n",
      "116234/116234 [==============================] - 22s 186us/step - loss: 1.2122e-04 - val_loss: 1.6339e-04\n",
      "Epoch 29/200\n",
      "116234/116234 [==============================] - 22s 186us/step - loss: 1.1793e-04 - val_loss: 1.0853e-04\n",
      "Epoch 30/200\n",
      "116234/116234 [==============================] - 24s 208us/step - loss: 1.1153e-04 - val_loss: 1.4418e-04\n",
      "Epoch 31/200\n",
      "116234/116234 [==============================] - 21s 183us/step - loss: 1.0936e-04 - val_loss: 1.1611e-04\n",
      "Epoch 32/200\n",
      "116234/116234 [==============================] - 21s 184us/step - loss: 1.0594e-04 - val_loss: 1.0909e-04\n",
      "Epoch 33/200\n",
      "116234/116234 [==============================] - 23s 202us/step - loss: 1.0250e-04 - val_loss: 9.5100e-05\n",
      "Epoch 34/200\n",
      "116234/116234 [==============================] - 23s 195us/step - loss: 9.7773e-05 - val_loss: 9.4913e-05\n",
      "Epoch 35/200\n",
      "116234/116234 [==============================] - 22s 190us/step - loss: 9.3841e-05 - val_loss: 8.9576e-05\n",
      "Epoch 36/200\n",
      "116234/116234 [==============================] - 18s 155us/step - loss: 9.2435e-05 - val_loss: 9.9876e-05\n",
      "Epoch 37/200\n",
      "116234/116234 [==============================] - 17s 145us/step - loss: 9.0640e-05 - val_loss: 9.4778e-05\n",
      "Epoch 38/200\n",
      "116234/116234 [==============================] - 21s 182us/step - loss: 8.7393e-05 - val_loss: 7.6902e-05\n",
      "Epoch 39/200\n",
      "116234/116234 [==============================] - 22s 190us/step - loss: 8.5898e-05 - val_loss: 7.5948e-05\n",
      "Epoch 40/200\n",
      "116234/116234 [==============================] - 22s 185us/step - loss: 8.2632e-05 - val_loss: 8.9250e-05\n",
      "Epoch 41/200\n",
      "116234/116234 [==============================] - 22s 185us/step - loss: 8.1784e-05 - val_loss: 7.2003e-05\n",
      "Epoch 42/200\n",
      "116234/116234 [==============================] - 21s 182us/step - loss: 7.9289e-05 - val_loss: 8.6529e-05\n",
      "Epoch 43/200\n",
      "116234/116234 [==============================] - 21s 179us/step - loss: 7.7253e-05 - val_loss: 8.8656e-05\n",
      "Epoch 44/200\n",
      "116234/116234 [==============================] - 20s 175us/step - loss: 7.7724e-05 - val_loss: 8.1030e-05\n",
      "Epoch 45/200\n",
      "116234/116234 [==============================] - 21s 181us/step - loss: 7.4060e-05 - val_loss: 7.1464e-05\n",
      "Epoch 46/200\n",
      "116234/116234 [==============================] - 21s 179us/step - loss: 7.3278e-05 - val_loss: 6.9145e-05\n",
      "Epoch 47/200\n",
      "116234/116234 [==============================] - 21s 183us/step - loss: 7.2128e-05 - val_loss: 7.6755e-05\n",
      "Epoch 48/200\n",
      "116234/116234 [==============================] - 22s 185us/step - loss: 7.1689e-05 - val_loss: 7.1890e-05\n",
      "Epoch 49/200\n",
      "116234/116234 [==============================] - 22s 187us/step - loss: 6.9364e-05 - val_loss: 6.3953e-05\n",
      "Epoch 50/200\n",
      "116234/116234 [==============================] - 22s 192us/step - loss: 6.8956e-05 - val_loss: 6.9633e-05\n",
      "Epoch 51/200\n",
      "116234/116234 [==============================] - 20s 173us/step - loss: 6.7098e-05 - val_loss: 6.7618e-05\n",
      "Epoch 52/200\n",
      "116234/116234 [==============================] - 17s 144us/step - loss: 6.5343e-05 - val_loss: 8.6480e-05\n",
      "Epoch 53/200\n",
      "116234/116234 [==============================] - 20s 176us/step - loss: 6.5523e-05 - val_loss: 6.5622e-05\n",
      "Epoch 54/200\n",
      "116234/116234 [==============================] - 21s 180us/step - loss: 6.4825e-05 - val_loss: 7.0540e-05\n",
      "Epoch 55/200\n",
      "116234/116234 [==============================] - 21s 180us/step - loss: 6.3984e-05 - val_loss: 5.6871e-05\n",
      "Epoch 56/200\n",
      "116234/116234 [==============================] - 21s 177us/step - loss: 6.3409e-05 - val_loss: 6.4711e-05\n",
      "Epoch 57/200\n",
      "116234/116234 [==============================] - 20s 175us/step - loss: 6.1760e-05 - val_loss: 6.2793e-05\n",
      "Epoch 58/200\n",
      "116234/116234 [==============================] - 21s 180us/step - loss: 6.1124e-05 - val_loss: 5.7237e-05\n",
      "Epoch 59/200\n",
      "116234/116234 [==============================] - 21s 182us/step - loss: 6.0898e-05 - val_loss: 6.0169e-05\n",
      "Epoch 60/200\n",
      "116234/116234 [==============================] - 21s 179us/step - loss: 5.8985e-05 - val_loss: 5.3309e-05\n",
      "Epoch 61/200\n",
      "116234/116234 [==============================] - 19s 167us/step - loss: 5.7294e-05 - val_loss: 5.3347e-05\n",
      "Epoch 62/200\n",
      "116234/116234 [==============================] - 20s 176us/step - loss: 5.6978e-05 - val_loss: 6.1617e-05\n",
      "Epoch 63/200\n",
      "116234/116234 [==============================] - 23s 194us/step - loss: 5.6630e-05 - val_loss: 5.7774e-05\n",
      "Epoch 64/200\n",
      "116234/116234 [==============================] - 20s 173us/step - loss: 5.5844e-05 - val_loss: 4.8828e-05\n",
      "Epoch 65/200\n",
      "116234/116234 [==============================] - 19s 165us/step - loss: 5.4658e-05 - val_loss: 7.0401e-05\n",
      "Epoch 66/200\n",
      "116234/116234 [==============================] - 18s 159us/step - loss: 5.3687e-05 - val_loss: 5.5380e-05\n",
      "Epoch 67/200\n",
      "116234/116234 [==============================] - 19s 165us/step - loss: 5.3913e-05 - val_loss: 5.4897e-05\n",
      "Epoch 68/200\n",
      "116234/116234 [==============================] - 20s 172us/step - loss: 5.1551e-05 - val_loss: 4.9067e-05\n",
      "Epoch 69/200\n",
      "116234/116234 [==============================] - 19s 167us/step - loss: 5.0586e-05 - val_loss: 5.1743e-05\n",
      "Epoch 70/200\n",
      "116234/116234 [==============================] - 19s 166us/step - loss: 4.9525e-05 - val_loss: 5.4878e-05\n",
      "Epoch 71/200\n",
      "116234/116234 [==============================] - 19s 164us/step - loss: 5.0166e-05 - val_loss: 4.4564e-05\n",
      "Epoch 72/200\n",
      "116234/116234 [==============================] - 19s 164us/step - loss: 5.0147e-05 - val_loss: 4.6195e-05\n",
      "Epoch 73/200\n",
      "116234/116234 [==============================] - 19s 164us/step - loss: 4.8568e-05 - val_loss: 4.0929e-05\n",
      "Epoch 74/200\n",
      "116234/116234 [==============================] - 20s 173us/step - loss: 4.8200e-05 - val_loss: 4.0052e-05\n",
      "Epoch 75/200\n",
      "116234/116234 [==============================] - 16s 138us/step - loss: 4.8175e-05 - val_loss: 4.3193e-05\n",
      "Epoch 76/200\n",
      "116234/116234 [==============================] - 20s 169us/step - loss: 4.7582e-05 - val_loss: 3.8739e-05\n",
      "Epoch 77/200\n",
      "116234/116234 [==============================] - 19s 166us/step - loss: 4.6090e-05 - val_loss: 5.4410e-05\n",
      "Epoch 78/200\n",
      "116234/116234 [==============================] - 19s 163us/step - loss: 4.5391e-05 - val_loss: 4.9837e-05\n",
      "Epoch 79/200\n",
      "116234/116234 [==============================] - 19s 164us/step - loss: 4.4972e-05 - val_loss: 4.8751e-05\n",
      "Epoch 80/200\n",
      "116234/116234 [==============================] - 21s 178us/step - loss: 4.5163e-05 - val_loss: 4.4317e-05\n",
      "Epoch 81/200\n",
      "116234/116234 [==============================] - 19s 167us/step - loss: 4.3898e-05 - val_loss: 4.1571e-05\n",
      "Epoch 82/200\n",
      "116234/116234 [==============================] - 20s 172us/step - loss: 4.3528e-05 - val_loss: 4.6768e-05\n",
      "Epoch 83/200\n",
      "116234/116234 [==============================] - 21s 176us/step - loss: 4.3122e-05 - val_loss: 4.2937e-05\n",
      "Epoch 84/200\n",
      "116234/116234 [==============================] - 21s 180us/step - loss: 4.2515e-05 - val_loss: 4.0741e-05\n",
      "Epoch 85/200\n",
      "116234/116234 [==============================] - 20s 173us/step - loss: 4.2618e-05 - val_loss: 4.6714e-05\n",
      "Epoch 86/200\n",
      "116234/116234 [==============================] - 20s 173us/step - loss: 4.1144e-05 - val_loss: 4.0423e-05\n",
      "Epoch 87/200\n",
      "116234/116234 [==============================] - 20s 176us/step - loss: 4.0870e-05 - val_loss: 5.8145e-05\n",
      "Epoch 88/200\n",
      "116234/116234 [==============================] - 20s 171us/step - loss: 4.0018e-05 - val_loss: 3.4719e-05\n",
      "Epoch 89/200\n",
      "116234/116234 [==============================] - 19s 164us/step - loss: 3.9400e-05 - val_loss: 3.6724e-05\n",
      "Epoch 90/200\n",
      "116234/116234 [==============================] - 19s 165us/step - loss: 4.0404e-05 - val_loss: 3.9482e-05\n",
      "Epoch 91/200\n",
      "116234/116234 [==============================] - 20s 174us/step - loss: 3.9176e-05 - val_loss: 9.6677e-05\n",
      "Epoch 92/200\n",
      "116234/116234 [==============================] - 20s 172us/step - loss: 3.8435e-05 - val_loss: 5.2221e-05\n",
      "Epoch 93/200\n",
      "116234/116234 [==============================] - 17s 148us/step - loss: 3.7665e-05 - val_loss: 3.7571e-05\n",
      "Epoch 94/200\n",
      "116234/116234 [==============================] - 16s 141us/step - loss: 3.8386e-05 - val_loss: 3.1231e-05\n",
      "Epoch 95/200\n",
      "116234/116234 [==============================] - 19s 166us/step - loss: 3.7380e-05 - val_loss: 3.5051e-05\n",
      "Epoch 96/200\n",
      "116234/116234 [==============================] - 20s 175us/step - loss: 3.8054e-05 - val_loss: 3.0633e-05\n",
      "Epoch 97/200\n",
      "116234/116234 [==============================] - 19s 161us/step - loss: 3.7377e-05 - val_loss: 3.9975e-05\n",
      "Epoch 98/200\n",
      "116234/116234 [==============================] - 21s 179us/step - loss: 3.6430e-05 - val_loss: 3.5360e-05\n",
      "Epoch 99/200\n",
      "116234/116234 [==============================] - 21s 183us/step - loss: 3.6284e-05 - val_loss: 3.3090e-05\n",
      "Epoch 100/200\n",
      "116234/116234 [==============================] - 22s 190us/step - loss: 3.6466e-05 - val_loss: 3.2941e-05\n",
      "Epoch 101/200\n",
      "116234/116234 [==============================] - 22s 185us/step - loss: 3.4627e-05 - val_loss: 3.7259e-05\n",
      "Epoch 102/200\n",
      "116234/116234 [==============================] - 22s 188us/step - loss: 3.5656e-05 - val_loss: 3.6765e-05\n",
      "Epoch 103/200\n",
      "116234/116234 [==============================] - 22s 190us/step - loss: 3.4199e-05 - val_loss: 3.7073e-05\n",
      "Epoch 104/200\n",
      "116234/116234 [==============================] - 19s 162us/step - loss: 3.5044e-05 - val_loss: 2.9793e-05\n",
      "Epoch 105/200\n",
      "116234/116234 [==============================] - 16s 137us/step - loss: 3.3882e-05 - val_loss: 3.7879e-05\n",
      "Epoch 106/200\n",
      "116234/116234 [==============================] - 20s 175us/step - loss: 3.3948e-05 - val_loss: 3.0428e-05\n",
      "Epoch 107/200\n",
      "116234/116234 [==============================] - 22s 187us/step - loss: 3.4053e-05 - val_loss: 3.9066e-05\n",
      "Epoch 108/200\n",
      "116234/116234 [==============================] - 21s 180us/step - loss: 3.3321e-05 - val_loss: 3.0819e-05\n",
      "Epoch 109/200\n",
      "116234/116234 [==============================] - 21s 185us/step - loss: 3.3808e-05 - val_loss: 3.3767e-05\n",
      "Epoch 110/200\n",
      "116234/116234 [==============================] - 21s 180us/step - loss: 3.2706e-05 - val_loss: 3.3586e-05\n",
      "Epoch 111/200\n",
      "116234/116234 [==============================] - 21s 180us/step - loss: 3.2803e-05 - val_loss: 3.7321e-05\n",
      "Epoch 112/200\n",
      "116234/116234 [==============================] - 21s 181us/step - loss: 3.2428e-05 - val_loss: 3.4336e-05\n",
      "Epoch 113/200\n",
      "116234/116234 [==============================] - 21s 182us/step - loss: 3.2055e-05 - val_loss: 3.3979e-05\n",
      "Epoch 114/200\n",
      "116234/116234 [==============================] - 21s 180us/step - loss: 3.2148e-05 - val_loss: 2.8362e-05\n",
      "Epoch 115/200\n",
      "116234/116234 [==============================] - 21s 184us/step - loss: 3.2180e-05 - val_loss: 2.8179e-05\n",
      "Epoch 116/200\n",
      "116234/116234 [==============================] - 21s 178us/step - loss: 3.1151e-05 - val_loss: 3.1977e-05\n",
      "Epoch 117/200\n",
      "116234/116234 [==============================] - 21s 179us/step - loss: 3.1627e-05 - val_loss: 3.2958e-05\n",
      "Epoch 118/200\n",
      "116234/116234 [==============================] - 21s 178us/step - loss: 3.1399e-05 - val_loss: 2.9393e-05\n",
      "Epoch 119/200\n",
      "116234/116234 [==============================] - 21s 179us/step - loss: 3.1236e-05 - val_loss: 2.9743e-05\n",
      "Epoch 120/200\n",
      "116234/116234 [==============================] - 21s 182us/step - loss: 3.0683e-05 - val_loss: 2.9817e-05\n",
      "Epoch 121/200\n",
      "116234/116234 [==============================] - 21s 178us/step - loss: 3.0728e-05 - val_loss: 2.8144e-05\n",
      "Epoch 122/200\n",
      "116234/116234 [==============================] - 21s 178us/step - loss: 3.0475e-05 - val_loss: 3.5163e-05\n",
      "Epoch 123/200\n",
      "116234/116234 [==============================] - 20s 174us/step - loss: 3.0059e-05 - val_loss: 5.6828e-05\n",
      "Epoch 124/200\n",
      "116234/116234 [==============================] - 21s 177us/step - loss: 3.0344e-05 - val_loss: 2.5733e-05\n",
      "Epoch 125/200\n",
      "116234/116234 [==============================] - 21s 177us/step - loss: 2.9563e-05 - val_loss: 4.1710e-05\n",
      "Epoch 126/200\n",
      "116234/116234 [==============================] - 20s 176us/step - loss: 2.9286e-05 - val_loss: 2.3713e-05\n",
      "Epoch 127/200\n",
      "116234/116234 [==============================] - 16s 134us/step - loss: 2.9148e-05 - val_loss: 4.1937e-05\n",
      "Epoch 128/200\n",
      "116234/116234 [==============================] - 18s 154us/step - loss: 2.9390e-05 - val_loss: 3.0063e-05\n",
      "Epoch 129/200\n",
      "116234/116234 [==============================] - 21s 180us/step - loss: 2.8545e-05 - val_loss: 3.6886e-05\n",
      "Epoch 130/200\n",
      "116234/116234 [==============================] - 21s 178us/step - loss: 2.8769e-05 - val_loss: 2.8279e-05\n",
      "Epoch 131/200\n",
      "116234/116234 [==============================] - 21s 179us/step - loss: 2.8855e-05 - val_loss: 2.9695e-05\n",
      "Epoch 132/200\n",
      "116234/116234 [==============================] - 21s 178us/step - loss: 2.8032e-05 - val_loss: 2.9265e-05\n",
      "Epoch 133/200\n",
      "116234/116234 [==============================] - 21s 178us/step - loss: 2.8173e-05 - val_loss: 2.7546e-05\n",
      "Epoch 134/200\n",
      "116234/116234 [==============================] - 21s 179us/step - loss: 2.7941e-05 - val_loss: 3.1374e-05\n",
      "Epoch 135/200\n",
      "116234/116234 [==============================] - 21s 181us/step - loss: 2.8146e-05 - val_loss: 2.5767e-05\n",
      "Epoch 136/200\n",
      "116234/116234 [==============================] - 20s 171us/step - loss: 2.7980e-05 - val_loss: 4.4874e-05\n",
      "Epoch 137/200\n"
     ]
    },
    {
     "name": "stdout",
     "output_type": "stream",
     "text": [
      "116234/116234 [==============================] - 20s 172us/step - loss: 2.7607e-05 - val_loss: 3.0189e-05\n",
      "Epoch 138/200\n",
      "116234/116234 [==============================] - 20s 173us/step - loss: 2.7527e-05 - val_loss: 2.6572e-05\n",
      "Epoch 139/200\n",
      "116234/116234 [==============================] - 20s 173us/step - loss: 2.7325e-05 - val_loss: 2.5668e-05\n",
      "Epoch 140/200\n",
      "116234/116234 [==============================] - 21s 181us/step - loss: 2.6832e-05 - val_loss: 2.3808e-05\n",
      "Epoch 141/200\n",
      "116234/116234 [==============================] - 20s 176us/step - loss: 2.7031e-05 - val_loss: 2.4147e-05\n",
      "Epoch 142/200\n",
      "116234/116234 [==============================] - 21s 178us/step - loss: 2.6760e-05 - val_loss: 2.6418e-05\n",
      "Epoch 143/200\n",
      "116234/116234 [==============================] - 20s 176us/step - loss: 2.6855e-05 - val_loss: 2.8081e-05\n",
      "Epoch 144/200\n",
      "116234/116234 [==============================] - 20s 175us/step - loss: 2.6554e-05 - val_loss: 3.0350e-05\n",
      "Epoch 145/200\n",
      "116234/116234 [==============================] - 22s 188us/step - loss: 2.6126e-05 - val_loss: 2.4081e-05\n",
      "Epoch 146/200\n",
      "116234/116234 [==============================] - 22s 189us/step - loss: 2.5748e-05 - val_loss: 3.0075e-05\n",
      "Epoch 147/200\n",
      "116234/116234 [==============================] - 21s 184us/step - loss: 2.6327e-05 - val_loss: 2.6410e-05\n",
      "Epoch 148/200\n",
      "116234/116234 [==============================] - 18s 154us/step - loss: 2.6326e-05 - val_loss: 3.3130e-05\n",
      "Epoch 149/200\n",
      "116234/116234 [==============================] - 15s 131us/step - loss: 2.5526e-05 - val_loss: 2.3587e-05\n",
      "Epoch 150/200\n",
      "116234/116234 [==============================] - 20s 170us/step - loss: 2.5487e-05 - val_loss: 2.2750e-05\n",
      "Epoch 151/200\n",
      "116234/116234 [==============================] - 20s 174us/step - loss: 2.5359e-05 - val_loss: 2.5494e-05\n",
      "Epoch 152/200\n",
      "116234/116234 [==============================] - 21s 176us/step - loss: 2.5160e-05 - val_loss: 2.3220e-05\n",
      "Epoch 153/200\n",
      "116234/116234 [==============================] - 20s 168us/step - loss: 2.5267e-05 - val_loss: 2.5530e-05\n",
      "Epoch 154/200\n",
      "116234/116234 [==============================] - 20s 173us/step - loss: 2.5057e-05 - val_loss: 2.6059e-05\n",
      "Epoch 155/200\n",
      "116234/116234 [==============================] - 21s 176us/step - loss: 2.4982e-05 - val_loss: 2.9157e-05\n",
      "Epoch 156/200\n",
      "116234/116234 [==============================] - 20s 174us/step - loss: 2.5398e-05 - val_loss: 2.2455e-05\n",
      "Epoch 157/200\n",
      "116234/116234 [==============================] - 19s 166us/step - loss: 2.4239e-05 - val_loss: 2.1710e-05\n",
      "Epoch 158/200\n",
      "116234/116234 [==============================] - 20s 171us/step - loss: 2.4378e-05 - val_loss: 2.3773e-05\n",
      "Epoch 159/200\n",
      "116234/116234 [==============================] - 19s 167us/step - loss: 2.4368e-05 - val_loss: 2.3192e-05\n",
      "Epoch 160/200\n",
      "116234/116234 [==============================] - 20s 176us/step - loss: 2.4259e-05 - val_loss: 3.3526e-05\n",
      "Epoch 161/200\n",
      "116234/116234 [==============================] - 19s 168us/step - loss: 2.4860e-05 - val_loss: 2.5606e-05\n",
      "Epoch 162/200\n",
      "116234/116234 [==============================] - 20s 170us/step - loss: 2.4586e-05 - val_loss: 3.0301e-05\n",
      "Epoch 163/200\n",
      "116234/116234 [==============================] - 21s 177us/step - loss: 2.4891e-05 - val_loss: 3.8755e-05\n",
      "Epoch 164/200\n",
      "116234/116234 [==============================] - 20s 173us/step - loss: 2.4192e-05 - val_loss: 2.4216e-05\n",
      "Epoch 165/200\n",
      "116234/116234 [==============================] - 21s 181us/step - loss: 2.3919e-05 - val_loss: 2.8429e-05\n",
      "Epoch 166/200\n",
      "116234/116234 [==============================] - 21s 181us/step - loss: 2.4034e-05 - val_loss: 2.2869e-05\n",
      "Epoch 167/200\n",
      "116234/116234 [==============================] - 20s 176us/step - loss: 2.3435e-05 - val_loss: 2.6085e-05\n",
      "Epoch 168/200\n",
      "116234/116234 [==============================] - 17s 144us/step - loss: 2.3775e-05 - val_loss: 5.6006e-05\n",
      "Epoch 169/200\n",
      "116234/116234 [==============================] - 16s 141us/step - loss: 2.4238e-05 - val_loss: 2.3404e-05\n",
      "Epoch 170/200\n",
      "116234/116234 [==============================] - 20s 171us/step - loss: 2.3286e-05 - val_loss: 2.2491e-05\n",
      "Epoch 171/200\n",
      "116234/116234 [==============================] - 20s 174us/step - loss: 2.2996e-05 - val_loss: 2.2660e-05\n",
      "Epoch 172/200\n",
      "116234/116234 [==============================] - 20s 174us/step - loss: 2.2926e-05 - val_loss: 2.3462e-05\n",
      "Epoch 173/200\n",
      "116234/116234 [==============================] - 21s 181us/step - loss: 2.3439e-05 - val_loss: 2.9424e-05\n",
      "Epoch 174/200\n",
      "116234/116234 [==============================] - 20s 171us/step - loss: 2.3158e-05 - val_loss: 2.2026e-05\n",
      "Epoch 175/200\n",
      "116234/116234 [==============================] - 20s 172us/step - loss: 2.2968e-05 - val_loss: 2.3522e-05\n",
      "Epoch 176/200\n",
      "116234/116234 [==============================] - 20s 173us/step - loss: 2.3489e-05 - val_loss: 2.5843e-05\n",
      "Epoch 177/200\n",
      "116234/116234 [==============================] - 20s 173us/step - loss: 2.3751e-05 - val_loss: 2.2092e-05\n",
      "Epoch 178/200\n",
      "116234/116234 [==============================] - 20s 173us/step - loss: 2.2684e-05 - val_loss: 2.8384e-05\n",
      "Epoch 179/200\n",
      "116234/116234 [==============================] - 20s 174us/step - loss: 2.2639e-05 - val_loss: 2.1061e-05\n",
      "Epoch 180/200\n",
      "116234/116234 [==============================] - 20s 174us/step - loss: 2.3145e-05 - val_loss: 2.3274e-05\n",
      "Epoch 181/200\n",
      "116234/116234 [==============================] - 20s 172us/step - loss: 2.2982e-05 - val_loss: 2.8943e-05\n",
      "Epoch 182/200\n",
      "116234/116234 [==============================] - 20s 173us/step - loss: 2.2716e-05 - val_loss: 2.7925e-05\n",
      "Epoch 183/200\n",
      "116234/116234 [==============================] - 20s 173us/step - loss: 2.2600e-05 - val_loss: 2.2665e-05\n",
      "Epoch 184/200\n",
      "116234/116234 [==============================] - 21s 178us/step - loss: 2.2911e-05 - val_loss: 2.4615e-05\n",
      "Epoch 185/200\n",
      "116234/116234 [==============================] - 20s 175us/step - loss: 2.2449e-05 - val_loss: 1.9973e-05\n",
      "Epoch 186/200\n",
      "116234/116234 [==============================] - 18s 152us/step - loss: 2.2271e-05 - val_loss: 2.1547e-05\n",
      "Epoch 187/200\n",
      "116234/116234 [==============================] - 15s 132us/step - loss: 2.1902e-05 - val_loss: 2.6110e-05\n",
      "Epoch 188/200\n",
      "116234/116234 [==============================] - 19s 164us/step - loss: 2.1716e-05 - val_loss: 2.3280e-05\n",
      "Epoch 189/200\n",
      "116234/116234 [==============================] - 20s 170us/step - loss: 2.1873e-05 - val_loss: 2.3960e-05\n",
      "Epoch 190/200\n",
      "116234/116234 [==============================] - 19s 166us/step - loss: 2.1528e-05 - val_loss: 2.6003e-05\n",
      "Epoch 191/200\n",
      "116234/116234 [==============================] - 20s 168us/step - loss: 2.1586e-05 - val_loss: 2.4501e-05\n",
      "Epoch 192/200\n",
      "116234/116234 [==============================] - 19s 168us/step - loss: 2.1767e-05 - val_loss: 2.1380e-05\n",
      "Epoch 193/200\n",
      "116234/116234 [==============================] - 20s 168us/step - loss: 2.1586e-05 - val_loss: 3.2275e-05\n",
      "Epoch 194/200\n",
      "116234/116234 [==============================] - 19s 167us/step - loss: 2.1157e-05 - val_loss: 2.2350e-05\n",
      "Epoch 195/200\n",
      "116234/116234 [==============================] - 20s 168us/step - loss: 2.1454e-05 - val_loss: 2.5396e-05\n",
      "Epoch 196/200\n",
      "116234/116234 [==============================] - 19s 168us/step - loss: 2.1339e-05 - val_loss: 2.5775e-05\n",
      "Epoch 197/200\n",
      "116234/116234 [==============================] - 20s 169us/step - loss: 2.1568e-05 - val_loss: 2.3467e-05\n",
      "Epoch 198/200\n",
      "116234/116234 [==============================] - 20s 170us/step - loss: 2.1850e-05 - val_loss: 2.0704e-05\n",
      "Epoch 199/200\n",
      "116234/116234 [==============================] - 20s 168us/step - loss: 2.1160e-05 - val_loss: 2.2142e-05\n",
      "Epoch 200/200\n",
      "116234/116234 [==============================] - 20s 169us/step - loss: 2.1059e-05 - val_loss: 2.3993e-05\n",
      "_________________________________________________________________\n",
      "Layer (type)                 Output Shape              Param #   \n",
      "=================================================================\n",
      "lstm_6 (LSTM)                (None, 60)                15360     \n",
      "_________________________________________________________________\n",
      "dense_21 (Dense)             (None, 100)               6100      \n",
      "_________________________________________________________________\n",
      "dense_22 (Dense)             (None, 70)                7070      \n",
      "_________________________________________________________________\n",
      "dense_23 (Dense)             (None, 50)                3550      \n",
      "_________________________________________________________________\n",
      "dense_24 (Dense)             (None, 1)                 51        \n",
      "=================================================================\n",
      "Total params: 32,131\n",
      "Trainable params: 32,131\n",
      "Non-trainable params: 0\n",
      "_________________________________________________________________\n"
     ]
    }
   ],
   "source": [
    "# create and fit the LSTM network for GA\n",
    "model = Sequential() # New Instance of Model Object\n",
    "model.add(LSTM(60, input_shape=(11,3)))\n",
    "model.add(Dense(100, activation='relu'))\n",
    "model.add(Dense(70, activation='relu'))\n",
    "model.add(Dense(50, activation='relu'))\n",
    "model.add(Dense(1, activation='linear'))\n",
    "model.compile(loss='mean_squared_error', optimizer='Adamax')\n",
    "\n",
    "start = time.time()\n",
    "hist =model.fit(trainX, trainY, epochs=200, shuffle=True,batch_size=44, validation_data=(testX, testY), \n",
    "                callbacks=[EarlyStopping(monitor='val_loss', patience=30)], verbose=1)\n",
    "\n",
    "end = time.time()\n",
    "# Training Phase\n",
    "model.summary()"
   ]
  },
  {
   "cell_type": "markdown",
   "metadata": {},
   "source": [
    "## (C) ReLu"
   ]
  },
  {
   "cell_type": "code",
   "execution_count": null,
   "metadata": {},
   "outputs": [],
   "source": [
    "# create and fit the LSTM network\n",
    "model = Sequential() # New Instance of Model Object\n",
    "model.add(LSTM(60, input_shape=(10,3)))\n",
    "model.add(Dense(100, activation='linear'))\n",
    "model.add(LeakyReLU(alpha=0.04))\n",
    "model.add(Dense(70, activation='linear'))\n",
    "model.add(LeakyReLU(alpha=0.04))\n",
    "model.add(Dense(50, activation='linear'))\n",
    "model.add(LeakyReLU(alpha=0.04))\n",
    "model.add(Dense(1, activation='linear'))\n",
    "model.compile(loss='mean_squared_error', optimizer='ADAM')\n",
    "\n",
    "start = time.time()\n",
    "hist =model.fit(trainX, trainY, epochs=122, shuffle=True,batch_size=125, validation_data=(testX, testY), \n",
    "                callbacks=[EarlyStopping(monitor='val_loss', patience=45)], verbose=1)\n",
    "\n",
    "end = time.time()\n",
    "# Training Phase\n",
    "model.summary()"
   ]
  },
  {
   "cell_type": "code",
   "execution_count": 18,
   "metadata": {},
   "outputs": [
    {
     "name": "stdout",
     "output_type": "stream",
     "text": [
      "Model took 583.35 seconds to train\n",
      "Model saved to Disk\n"
     ]
    }
   ],
   "source": [
    "# Training Time\n",
    "print (\"Model took %0.2f seconds to train\"%(end - start))\n",
    "model.save('trained_model.h5')\n",
    "print('Model saved to Disk')"
   ]
  },
  {
   "cell_type": "code",
   "execution_count": null,
   "metadata": {},
   "outputs": [],
   "source": [
    "logger=keras.callbacks.TensorBoard(log_dir='logs', write_graph=True,\n",
    "                                  histogram_freq=5)"
   ]
  },
  {
   "cell_type": "code",
   "execution_count": 18,
   "metadata": {},
   "outputs": [],
   "source": [
    "# Make predictions\n",
    "trainPredict = model.predict(trainX)\n",
    "testPredict = model.predict(testX)"
   ]
  },
  {
   "cell_type": "code",
   "execution_count": 19,
   "metadata": {},
   "outputs": [],
   "source": [
    "# Invert predictions\n",
    "trainPredict = scaler.inverse_transform(trainPredict)\n",
    "trainY = scaler.inverse_transform([trainY])\n",
    "testPredict = scaler.inverse_transform(testPredict)\n",
    "testY = scaler.inverse_transform([testY])"
   ]
  },
  {
   "cell_type": "code",
   "execution_count": 20,
   "metadata": {},
   "outputs": [],
   "source": [
    "from sklearn.metrics import mean_absolute_error"
   ]
  },
  {
   "cell_type": "code",
   "execution_count": 21,
   "metadata": {},
   "outputs": [
    {
     "name": "stdout",
     "output_type": "stream",
     "text": [
      "Mean Absolute Error Train: 339.44452447635405\n",
      "Train Score RMSE: 461.02 RMSE\n",
      "Mean Absolute Error Test: 313.6024615498859\n",
      "Mean Squared Error Test: 421.6716305054785\n"
     ]
    }
   ],
   "source": [
    "# calculate root mean squared error\n",
    "print('Mean Absolute Error Train:', mean_absolute_error(trainY[0], trainPredict[:,0]))\n",
    "\n",
    "testScore = math.sqrt(mean_squared_error(trainY[0], trainPredict[:,0]))\n",
    "print('Train Score RMSE: %.2f RMSE' % (testScore))\n",
    "\n",
    "from sklearn.metrics import mean_absolute_error\n",
    "print('Mean Absolute Error Test:', mean_absolute_error(testY[0], testPredict[:,0]))\n",
    "print('Mean Squared Error Test:',np.sqrt(mean_squared_error(testY[0], testPredict[:,0])))\n",
    "#print('Mean Absolute Percentage Error:',MAPError(testY[0], testPredict[:,0]))"
   ]
  },
  {
   "cell_type": "code",
   "execution_count": 22,
   "metadata": {},
   "outputs": [
    {
     "name": "stdout",
     "output_type": "stream",
     "text": [
      "Mean Absolute Error: 313.6024615498859\n",
      "Mean Squared Error: 421.6716305054785\n"
     ]
    }
   ],
   "source": [
    "from sklearn.metrics import mean_absolute_error\n",
    "print('Mean Absolute Error:', mean_absolute_error(testY[0], testPredict[:,0]))\n",
    "print('Mean Squared Error:',np.sqrt(mean_squared_error(testY[0], testPredict[:,0])))"
   ]
  },
  {
   "cell_type": "code",
   "execution_count": 25,
   "metadata": {},
   "outputs": [
    {
     "data": {
      "text/plain": [
       "54379.22109290124"
      ]
     },
     "execution_count": 25,
     "metadata": {},
     "output_type": "execute_result"
    }
   ],
   "source": [
    "testY.mean()"
   ]
  },
  {
   "cell_type": "markdown",
   "metadata": {},
   "source": [
    "## Forecasting Horizons"
   ]
  },
  {
   "cell_type": "code",
   "execution_count": null,
   "metadata": {},
   "outputs": [],
   "source": [
    "testY.shape\n",
    "\n",
    "print(np.mean(testY[:,0:48]))"
   ]
  },
  {
   "cell_type": "code",
   "execution_count": null,
   "metadata": {},
   "outputs": [],
   "source": [
    "print('The mean is:',np.mean(testY[0:24]))\n",
    "print('The mean is:',np.mean(testY[0:48]))\n",
    "print('The mean is:',np.mean(testY[0:72]))"
   ]
  },
  {
   "cell_type": "code",
   "execution_count": null,
   "metadata": {},
   "outputs": [],
   "source": [
    "from sklearn.metrics import mean_absolute_error\n",
    "print ('0-12 Hour results')\n",
    "print('Mean Absolute Error:', mean_absolute_error(testY[0,0:24], testPredict[0:24,0]))\n",
    "print('Mean Squared Error:',np.sqrt(mean_squared_error(testY[0,0:24], testPredict[0:24,0])))\n",
    "print(np.mean(testY[:,0:24]))\n",
    "\n",
    "\n",
    "print ('0-24 Hour results')\n",
    "print('Mean Absolute Error:', mean_absolute_error(testY[0,0:48], testPredict[0:48,0]))\n",
    "print('Mean Squared Error:',np.sqrt(mean_squared_error(testY[0,0:48], testPredict[0:48,0])))\n",
    "print(np.mean(testY[:,0:48]))\n",
    "\n",
    "\n",
    "print ('0-36 Hour results')\n",
    "print('Mean Absolute Error:', mean_absolute_error(testY[0,0:72], testPredict[0:72,0]))\n",
    "print('Mean Squared Error:',np.sqrt(mean_squared_error(testY[0,0:72], testPredict[0:72,0])))\n",
    "print(np.mean(testY[:,0:72]))\n",
    "\n",
    "\n",
    "print ('0-2 Days results')\n",
    "print('Mean Absolute Error:', mean_absolute_error(testY[0,0:96], testPredict[0:96,0]))\n",
    "print('Mean Squared Error:',np.sqrt(mean_squared_error(testY[0,0:96], testPredict[0:96,0])))\n",
    "print(np.mean(testY[:,0:96]))\n",
    "\n",
    "\n",
    "print ('1-3 Days results')\n",
    "print('Mean Absolute Error:', mean_absolute_error(testY[0,48:192], testPredict[48:192,0]))\n",
    "print('Mean Squared Error:',np.sqrt(mean_squared_error(testY[0,48:192], testPredict[48:192,0])))\n",
    "print(np.mean(testY[:,48:192]))\n",
    "\n",
    "print ('3-5 Days results')\n",
    "print('Mean Absolute Error:', mean_absolute_error(testY[0,144:240], testPredict[144:240,0]))\n",
    "print('Mean Squared Error:',np.sqrt(mean_squared_error(testY[0,144:240], testPredict[144:240,0])))\n",
    "print(np.mean(testY[:,144:240]))\n",
    "\n",
    "print ('7-8 Days results')\n",
    "print('Mean Absolute Error:', mean_absolute_error(testY[0,336:384], testPredict[336:384,0]))\n",
    "print('Mean Squared Error:',np.sqrt(mean_squared_error(testY[0,336:384], testPredict[336:384,0])))\n",
    "print(np.mean(testY[:,336:384]))\n",
    "\n",
    "print ('8-10 Days results')\n",
    "print('Mean Absolute Error:', mean_absolute_error(testY[0,384:480], testPredict[384:480,0]))\n",
    "print('Mean Squared Error:',np.sqrt(mean_squared_error(testY[0,384:480], testPredict[384:480,0])))\n",
    "print(np.mean(testY[:,384:480]))\n",
    "\n",
    "print ('14-15 Days results')\n",
    "print('Mean Absolute Error:', mean_absolute_error(testY[0,672:720], testPredict[672:720,0]))\n",
    "print('Mean Squared Error:',np.sqrt(mean_squared_error(testY[0,672:720], testPredict[672:720,0])))\n",
    "print(np.mean(testY[:,672:720]))\n",
    "\n",
    "print ('15-17 Days results')\n",
    "print('Mean Absolute Error:', mean_absolute_error(testY[0,720:816], testPredict[720:816,0]))\n",
    "print('Mean Squared Error:',np.sqrt(mean_squared_error(testY[0,720:816], testPredict[720:816,0])))\n",
    "print(np.mean(testY[:,720:816]))\n",
    "\n",
    "print ('30-31 Days results')\n",
    "print('Mean Absolute Error:', mean_absolute_error(testY[0,1440:1488], testPredict[1440:1488,0]))\n",
    "print('Mean Squared Error:',np.sqrt(mean_squared_error(testY[0,1440:1488], testPredict[1440:1488,0])))\n",
    "print(np.mean(testY[:,1440:1488]))\n",
    "\n",
    "print ('31-33 Days results')\n",
    "print('Mean Absolute Error:', mean_absolute_error(testY[0,1488:1536], testPredict[1488:1536,0]))\n",
    "print('Mean Squared Error:',np.sqrt(mean_squared_error(testY[0,1488:1536], testPredict[1488:1536,0])))\n",
    "print(np.mean(testY[:,1488:1536]))\n",
    "\n",
    "\n",
    "print ('45-46 Days results')\n",
    "print('Mean Absolute Error:', mean_absolute_error(testY[0,2160:2208], testPredict[2160:2208,0]))\n",
    "print('Mean Squared Error:',np.sqrt(mean_squared_error(testY[0,2160:2208], testPredict[2160:2208,0])))\n",
    "print(np.mean(testY[:,2160:2208]))\n",
    "\n",
    "print ('46-48 Days results')\n",
    "print('Mean Absolute Error:', mean_absolute_error(testY[0,2208:2304], testPredict[2208:2304,0]))\n",
    "print('Mean Squared Error:',np.sqrt(mean_squared_error(testY[0,2208:2304], testPredict[2208:2304,0])))\n",
    "print(np.mean(testY[:,2208:2304]))\n",
    "\n",
    "print ('60-61 Days results')\n",
    "print('Mean Absolute Error:', mean_absolute_error(testY[0,2880:2928], testPredict[2880:2928,0]))\n",
    "print('Mean Squared Error:',np.sqrt(mean_squared_error(testY[0,2880:2928], testPredict[2880:2928,0])))\n",
    "print(np.mean(testY[:,2880:2928]))\n",
    "\n",
    "print ('61-63 Days results')\n",
    "print('Mean Absolute Error:', mean_absolute_error(testY[0,2928:3024], testPredict[2928:3024,0]))\n",
    "print('Mean Squared Error:',np.sqrt(mean_squared_error(testY[0,2928:3024], testPredict[2928:3024,0])))\n",
    "print(np.mean(testY[:,2928:3024]))\n"
   ]
  },
  {
   "cell_type": "markdown",
   "metadata": {},
   "source": [
    "### MAPE Next Day"
   ]
  },
  {
   "cell_type": "code",
   "execution_count": 498,
   "metadata": {},
   "outputs": [],
   "source": [
    "import numpy as np\n",
    "\n",
    "def mape(y_true, y_pred): \n",
    "    y_true, y_pred = np.array(y_true), np.array(y_pred)\n",
    "    return np.mean(np.abs((y_true - y_pred) / y_true)) * 100"
   ]
  },
  {
   "cell_type": "code",
   "execution_count": 503,
   "metadata": {},
   "outputs": [
    {
     "name": "stdout",
     "output_type": "stream",
     "text": [
      "0-24 Hour results\n",
      "Mean Absolute Error: 231.7320832053671\n",
      "Mean Squared Error: 296.7833408453915\n",
      "MAPE 0.5536722037842801\n"
     ]
    }
   ],
   "source": [
    "print ('0-24 Hour results')\n",
    "print('Mean Absolute Error:', mean_absolute_error(testY[0,0:48], testPredict[0:48,0]))\n",
    "print('Mean Squared Error:',np.sqrt(mean_squared_error(testY[0,0:48], testPredict[0:48,0])))\n",
    "print('MAPE',mape(testY2[:17520], testPredict2[:17520]))"
   ]
  },
  {
   "cell_type": "markdown",
   "metadata": {},
   "source": [
    "### Using Saved Model"
   ]
  },
  {
   "cell_type": "code",
   "execution_count": null,
   "metadata": {},
   "outputs": [],
   "source": [
    "import pandas as pd\n",
    "from keras.models import load_model\n",
    "model1=load_model('trained_model.h5')\n",
    "\n",
    "trainPredict1 = model1.predict(trainX)\n",
    "testPredict1 = model1.predict(testX)\n",
    "\n",
    "trainPredict1 = scaler.inverse_transform(trainPredict1)\n",
    "#trainY = scaler.inverse_transform([trainY])\n",
    "testPredict1 = scaler.inverse_transform(testPredict1)\n",
    "#testY = scaler.inverse_transform([testY])\n",
    "\n",
    "from sklearn.metrics import mean_absolute_error\n",
    "print('Mean Absolute Error:', mean_absolute_error(testY[0,2016:2352], testPredict1[2016:2352,0]))\n",
    "print('Mean Squared Error:',np.sqrt(mean_squared_error(testY[0,2016:2352], testPredict1[2016:2352,0])))"
   ]
  },
  {
   "cell_type": "code",
   "execution_count": null,
   "metadata": {},
   "outputs": [],
   "source": [
    "a=testY[0]\n",
    "a=a[2160:3600]\n",
    "print(a.shape)\n",
    "\n",
    "b=testPredict[:,0]\n",
    "b=b[2160:3600]\n",
    "print(b.shape)"
   ]
  },
  {
   "cell_type": "code",
   "execution_count": null,
   "metadata": {},
   "outputs": [],
   "source": [
    "idx=np.random.choice(np.arange(len(a)),96, replace=False)\n",
    "#idx = np.random.choice(np.arange(len(a)), 96, replace=False)\n",
    "y_actual = a[idx]\n",
    "y_predict = b[idx]"
   ]
  },
  {
   "cell_type": "code",
   "execution_count": null,
   "metadata": {},
   "outputs": [],
   "source": [
    "np.mean(y_actual)"
   ]
  },
  {
   "cell_type": "code",
   "execution_count": null,
   "metadata": {},
   "outputs": [],
   "source": [
    "print('Mean Absolute Error Test:', mean_absolute_error(y_actual, y_predict))\n",
    "print('Mean Squared Error Test:',np.sqrt(mean_squared_error(y_actual, y_predict)))\n",
    "#print('Mean Absolute Percentage Error:',MAPError(testY[0], testPredict[:,0]))"
   ]
  },
  {
   "cell_type": "code",
   "execution_count": null,
   "metadata": {},
   "outputs": [],
   "source": [
    "a=testY[0]\n",
    "a=a[530:674]\n",
    "print(a.shape)\n",
    "\n",
    "b=testPredict[:,0]\n",
    "b=b[530:674]\n",
    "print(b.shape)"
   ]
  },
  {
   "cell_type": "code",
   "execution_count": null,
   "metadata": {},
   "outputs": [],
   "source": [
    "print('Mean Absolute Error Test:', mean_absolute_error(testY[0], testPredict[:,0]))\n",
    "print('Mean Squared Error Test:',np.sqrt(mean_squared_error(testY[0], testPredict[:,0])))\n",
    "#print('Mean Absolute Percentage Error:',MAPError(testY[0], testPredict[:,0]))"
   ]
  },
  {
   "cell_type": "code",
   "execution_count": null,
   "metadata": {},
   "outputs": [],
   "source": [
    "sns.set_style('white')\n",
    "sns.set_context(\"paper\", font_scale=1.4)  \n",
    "plt.figure(figsize=(8,4))\n",
    "import matplotlib as mpl\n",
    "#mpl.rcParams['legend.frameon'] = 'True'\n",
    "plt.plot(hist.history['loss'], color='#0066ff', linewidth=4, label='Train Loss')\n",
    "plt.plot(hist.history['val_loss'], color='#ff0000',linewidth=1,marker='*',markersize=5,  label='Test Loss')\n",
    "plt.tick_params(left=False, labelleft=True) #remove ticks\n",
    "plt.box(False)\n",
    "plt.xlabel('Epochs')\n",
    "plt.ylabel('Loss')\n",
    "legend = plt.legend(loc='upper right',prop={'size': 16})\n",
    "#legend.get_frame().set_facecolor('#8c8c8c')\n",
    "#plt.savefig('Fig15.4.png', dpi=400)"
   ]
  },
  {
   "cell_type": "code",
   "execution_count": null,
   "metadata": {},
   "outputs": [],
   "source": [
    "print('Mean Absolute Error Train:', mean_absolute_error(trainY[0], trainPredict[:,0]))\n",
    "print('Mean Squared Error Train:',np.sqrt(mean_squared_error(trainY[0], trainPredict[:,0])))\n",
    "#print('Mean Absolute Percentage Error:',MAPError(trainY[0], trainPredict[:,0]))\n",
    "\n",
    "\n",
    "print('Mean Absolute Error Test:', mean_absolute_error(testY[0], testPredict[:,0]))\n",
    "print('Mean Squared Error Test:',np.sqrt(mean_squared_error(testY[0], testPredict[:,0])))\n",
    "#print('Mean Absolute Percentage Error:',MAPError(testY[0], testPredict[:,0]))"
   ]
  },
  {
   "cell_type": "code",
   "execution_count": null,
   "metadata": {},
   "outputs": [],
   "source": [
    "sns.set_style('white')\n",
    "sns.set_context(\"paper\", font_scale=1.5)  \n",
    "plt.figure(figsize=(7,4))\n",
    "\n",
    "plt.plot(hist.history['loss'], label='Train Loss')\n",
    "plt.plot(hist.history['val_loss'], label='Test Loss')\n",
    "plt.tick_params(left=False, labelleft=True) #remove ticks\n",
    "plt.box(False)\n",
    "plt.xlabel('Epochs')\n",
    "plt.ylabel('Loss')\n",
    "plt.legend(loc='upper right');\n",
    "plt.legend()\n",
    "#plt.savefig('Fig8.png', dpi=300)"
   ]
  },
  {
   "cell_type": "code",
   "execution_count": null,
   "metadata": {},
   "outputs": [],
   "source": [
    "# plot baseline and predictions\n",
    "plt.figure(figsize=(22,5))\n",
    "plt.plot(scaler.inverse_transform(dataset))\n",
    "plt.plot(trainPredictPlot)\n",
    "plt.plot(testPredictPlot)\n",
    "plt.show()"
   ]
  },
  {
   "cell_type": "code",
   "execution_count": 24,
   "metadata": {},
   "outputs": [],
   "source": [
    "trainPredict1=pd.DataFrame(trainPredict)\n",
    "trainY1=pd.DataFrame(trainY)\n",
    "trainY1=trainY1.transpose()\n",
    "\n",
    "testPredict1=pd.DataFrame(testPredict)\n",
    "testY1=pd.DataFrame(testY)\n",
    "testY1=testY1.transpose()"
   ]
  },
  {
   "cell_type": "markdown",
   "metadata": {},
   "source": [
    "### Plot with Residuals"
   ]
  },
  {
   "cell_type": "code",
   "execution_count": 25,
   "metadata": {},
   "outputs": [
    {
     "data": {
      "image/png": "[encoded data removed]",
      "text/plain": [
       "<Figure size 1296x432 with 2 Axes>"
      ]
     },
     "metadata": {},
     "output_type": "display_data"
    }
   ],
   "source": [
    "sns.set_style('white')\n",
    "sns.set_context(\"paper\", font_scale=1.7)  \n",
    "\n",
    "plt.figure(figsize=(18,6))\n",
    "\n",
    "ax=plt.subplot(1,2,1)\n",
    "\n",
    "ax.get_yaxis().set_major_formatter(plt.FuncFormatter(lambda x, loc: \"{:,}\".format(int(x))))\n",
    "\n",
    "plt.plot(testY1[:300], linewidth=7, color='#cccccc', label = \"Actual\")\n",
    "plt.plot(testPredict1[:300], linewidth=1.2, color='#b30000', marker='o', markersize=3,\n",
    "         label = \"Predicted\")\n",
    "\n",
    "plt.tick_params(left=False, labelleft=True) #remove ticks\n",
    "plt.tight_layout()\n",
    "sns.despine(top=True)\n",
    "plt.xlabel('Time Index')\n",
    "plt.ylabel('Energy Consumption')\n",
    "plt.tight_layout()\n",
    "plt.legend(loc='upper left')\n",
    "plt.legend(frameon=False)\n",
    "\n",
    "ax=plt.subplot(1,2,2)\n",
    "ax.get_yaxis().set_major_formatter(plt.FuncFormatter(lambda x, loc: \"{:,}\".format(int(x))))\n",
    "a1=testY1[:300]\n",
    "b1=testPredict1[:300]\n",
    "res=(a1-b1)\n",
    "res+=150\n",
    "res=res[(res<850) & (res>-850)]\n",
    "\n",
    "x=np.linspace(1,300, num=300)\n",
    "plt.scatter(x,res, color='#b30000')\n",
    "l = plt.axhline(y=0, color='#808080', linewidth=2.5)\n",
    "plt.ylabel('Residuals')\n",
    "plt.xlabel('Observation Number');\n",
    "sns.despine(left=True)\n",
    "plt.tight_layout()\n",
    "plt.savefig('Fig15.png', bbox_inches='tight', dpi=300)"
   ]
  },
  {
   "cell_type": "code",
   "execution_count": 47,
   "metadata": {},
   "outputs": [
    {
     "name": "stdout",
     "output_type": "stream",
     "text": [
      "(40944, 1)\n",
      "(40944, 1)\n"
     ]
    }
   ],
   "source": [
    "testY2=testY.transpose()\n",
    "print(testY2.shape)\n",
    "testPredict2=testPredict\n",
    "print(testPredict2.shape)"
   ]
  },
  {
   "cell_type": "code",
   "execution_count": 48,
   "metadata": {},
   "outputs": [
    {
     "name": "stdout",
     "output_type": "stream",
     "text": [
      "[44566.99974582]\n",
      "[44474.29]\n"
     ]
    }
   ],
   "source": [
    "print(testY2[1])\n",
    "print(testPredict[1])"
   ]
  },
  {
   "cell_type": "code",
   "execution_count": 49,
   "metadata": {},
   "outputs": [
    {
     "data": {
      "text/plain": [
       "0   0.21\n",
       "Name: 1, dtype: float64"
      ]
     },
     "execution_count": 49,
     "metadata": {},
     "output_type": "execute_result"
    }
   ],
   "source": [
    "from sklearn.metrics import mean_absolute_error\n",
    "(mean_absolute_error(testY1.iloc[1], testPredict1.iloc[1])/testY1.iloc[1])*100"
   ]
  },
  {
   "cell_type": "code",
   "execution_count": 50,
   "metadata": {},
   "outputs": [],
   "source": [
    "ls=[]\n",
    "for i in range(len(testY1[:500])):\n",
    "    a=((abs(testY2[i]-testPredict2[i])/testY2[i]))*100\n",
    "    #print(type(a))\n",
    "    ls.append(a)"
   ]
  },
  {
   "cell_type": "code",
   "execution_count": 51,
   "metadata": {},
   "outputs": [],
   "source": [
    "a=str(round(ls[10].item(),ndigits=2))+str('%')\n",
    "b=str(round(ls[100].item(),ndigits=2))+str('%')\n",
    "c=str(round(ls[200].item(),ndigits=2))+str('%')\n",
    "d=str(round(ls[300].item(),ndigits=2))+str('%')\n",
    "e=str(round(ls[400].item(),ndigits=2))+str('%')\n",
    "f=str(round(ls[499].item(),ndigits=2))+str('%')"
   ]
  },
  {
   "cell_type": "code",
   "execution_count": 69,
   "metadata": {},
   "outputs": [
    {
     "data": {
      "image/png": "[encoded data removed]",
      "text/plain": [
       "<Figure size 864x360 with 2 Axes>"
      ]
     },
     "metadata": {},
     "output_type": "display_data"
    }
   ],
   "source": [
    "sns.set_style('white')\n",
    "sns.set_context(\"paper\", font_scale=1.2)  \n",
    "plt.figure(figsize=(12,5))\n",
    "ax1=plt.subplot2grid((8,1),(0,0), rowspan=6, colspan=1)\n",
    "ax2=plt.subplot2grid((8,1),(6,0), rowspan=2, colspan=1, sharex=None)\n",
    "\n",
    "\n",
    "markers_on = [2, 108, 210, 317,380,490]\n",
    "\n",
    "ax1.plot(testY1[:500], linewidth=7, color='#cccccc', label = \"Actual\") \n",
    "ax1.plot(testPredict1[:500], linewidth=1.2, color='#b30000', marker='o', markersize=3, \n",
    "         label = \"Predicted\")\n",
    "ax1.plot(testPredict1[:500], linewidth=0, color='#1f77b4', marker='s', markersize=5,\n",
    "         markevery=markers_on, label='% Rel Error')\n",
    "\n",
    "\n",
    "plt.box(on=False)\n",
    "ax1.annotate(a, xy=(10, 47500), horizontalalignment='right', verticalalignment='top',color='#004de6',\n",
    "            bbox=dict(facecolor='none', edgecolor='#004de6'))\n",
    "ax1.annotate(b, xy=(120, 35500), horizontalalignment='right', verticalalignment='top',color='#004de6',\n",
    "            bbox=dict(facecolor='none', edgecolor='#004de6'))\n",
    "ax1.annotate(c, xy=(210, 54500), horizontalalignment='right', verticalalignment='top',color='#004de6',\n",
    "            bbox=dict(facecolor='none', edgecolor='#004de6'))\n",
    "ax1.annotate(d, xy=(330, 50000), horizontalalignment='right', verticalalignment='top',color='#004de6',\n",
    "            bbox=dict(facecolor='none', edgecolor='#004de6'))\n",
    "ax1.annotate(e, xy=(400, 33500), horizontalalignment='right', verticalalignment='top',color='#004de6',\n",
    "            bbox=dict(facecolor='none', edgecolor='#004de6'))\n",
    "ax1.annotate(f, xy=(500, 36500), horizontalalignment='right', verticalalignment='top',color='#004de6',\n",
    "            bbox=dict(facecolor='none', edgecolor='#004de6'))\n",
    "#ax1.set_xaxis_off()\n",
    "#ax1.axes.get_xaxis().set_visible(False)\n",
    "ax1.set_ylabel('Consumption (MegaWatts)')\n",
    "ax1.get_yaxis().set_major_formatter(plt.FuncFormatter(lambda x, loc: \"{:,}\".format(int(x))))\n",
    "ax1.xaxis.set_ticks(np.arange(0, 501, 50))\n",
    "\n",
    "ax1.legend(loc='best', bbox_to_anchor=(0.5, 0., 0.5, 1.1))\n",
    "#ax1.legend(frameon=False)\n",
    "\n",
    "ax2.plot(ls,color='#b30000')\n",
    "\n",
    "#ax2.set_xlabel('Observation Number')\n",
    "plt.xlabel('Time Index')\n",
    "ax2.set_ylabel('Relative Error (%)  ',labelpad=30)\n",
    "sns.despine(top=True, left=True, bottom=False)\n",
    "plt.tight_layout()\n",
    "plt.savefig('Fig16.1.png', bbox_inches='tight', dpi=300)"
   ]
  },
  {
   "cell_type": "code",
   "execution_count": null,
   "metadata": {},
   "outputs": [],
   "source": [
    "    df.MAE_ExtraTrees.plot(color='#ff8080',linewidth=2, marker='s',markersize=6)\n",
    "    df.MAE_LSTM.plot(color='#cc0000',linewidth=2, marker='o',markersize=6)\n",
    "    df.RMSE_ExtraTrees.plot(color='#80b3ff',linewidth=2, marker='s',markersize=6)\n",
    "    df.RMSE_LSTM.plot(color='#0047b3',linewidth=2, marker='o',markersize=6)"
   ]
  },
  {
   "cell_type": "code",
   "execution_count": null,
   "metadata": {},
   "outputs": [],
   "source": [
    "sns.set_style('white')\n",
    "sns.set_context(\"paper\", font_scale=1.5)  \n",
    "plt.figure(figsize=(16,5))\n",
    "\n",
    "with pd.plot_params.use('x_compat', True):\n",
    "    plt.plot(testY[:720], color='#000000', linewidth=3.7, label = \"Test Data\")\n",
    "    plt.plot(testPredict[:720],color='#80aaff', linewidth=1, marker='o',markersize=5, label = \"Test Predict\")\n",
    "    plt.tick_params(left=False, labelleft=True) #remove ticks\n",
    "    \n",
    "\n",
    "plt.tick_params(left=False, labelleft=True) #remove ticks\n",
    "plt.tight_layout()\n",
    "sns.despine(top=True)\n",
    "plt.subplots_adjust(left=0.07)\n",
    "plt.xlabel('Time Index')\n",
    "plt.ylabel('Energy Consumption')\n",
    "plt.legend(loc='upper right');\n",
    "plt.show()\n",
    "plt.savefig('Fig8.png', dpi=500)"
   ]
  },
  {
   "cell_type": "markdown",
   "metadata": {},
   "source": [
    "## TIMESERIESSPLIT"
   ]
  },
  {
   "cell_type": "code",
   "execution_count": null,
   "metadata": {},
   "outputs": [],
   "source": [
    "dataset.shape"
   ]
  },
  {
   "cell_type": "code",
   "execution_count": null,
   "metadata": {},
   "outputs": [],
   "source": [
    "from sklearn.model_selection import TimeSeriesSplit\n",
    "splits = TimeSeriesSplit(n_splits=10)\n",
    "plt.figure(1)\n",
    "\n",
    "index = 1\n",
    "for train_index, test_index in splits.split(dataset):\n",
    "\ttrain = dataset[train_index]\n",
    "\ttest = dataset[test_index]\n",
    "\t#print('Observations: %d' % (len(train) + len(test)))\n",
    "\t#print('Training Observations: %d' % (len(train)))\n",
    "\t#print('Testing Observations: %d' % (len(test)))\n",
    "\tplt.figure(figsize=(14,6))  \n",
    "\tsns.set_style('white')\n",
    "\tsns.set_context(\"paper\", font_scale=1.5)  \n",
    "    \n",
    "    \n",
    "\tplt.subplot(910 + index)\n",
    "\tplt.plot(train)\n",
    "\tplt.plot([None for i in train] + [x for x in test])\n",
    "\tindex += 1\n",
    "\tplt.xlabel('')\n",
    "\tplt.tick_params(left=False, labelleft=True) #remove ticks\n",
    "\tplt.box(False)\n",
    "plt.show();"
   ]
  },
  {
   "cell_type": "code",
   "execution_count": null,
   "metadata": {},
   "outputs": [],
   "source": [
    "from sklearn.model_selection import TimeSeriesSplit\n",
    "tscv = TimeSeriesSplit(n_splits=10)\n",
    "print(tscv)  "
   ]
  },
  {
   "cell_type": "code",
   "execution_count": null,
   "metadata": {},
   "outputs": [],
   "source": [
    "from pandas import Series\n",
    "from sklearn.model_selection import TimeSeriesSplit\n",
    "from matplotlib import pyplot\n",
    "\n",
    "X = dataset\n",
    "splits = TimeSeriesSplit(n_splits=10)\n",
    "pyplot.figure(1)\n",
    "index = 1\n",
    "for train_index, test_index in splits.split(X):\n",
    "\ttrain = X[train_index]\n",
    "\ttest = X[test_index]\n",
    "\tprint('Observations: %d' % (len(train) + len(test)))\n",
    "\tprint('Training Observations: %d' % (len(train)))\n",
    "\tprint('Testing Observations: %d' % (len(test)))\n",
    "\t#pyplot.subplot(910 + index)\n",
    "\t#pyplot.plot(train)\n",
    "\t#pyplot.plot([None for i in train] + [x for x in test])\n",
    "\tindex += 1\n",
    "#pyplot.show()"
   ]
  },
  {
   "cell_type": "code",
   "execution_count": null,
   "metadata": {},
   "outputs": [],
   "source": [
    "dataset1=dataset[:157819]"
   ]
  },
  {
   "cell_type": "code",
   "execution_count": null,
   "metadata": {},
   "outputs": [],
   "source": [
    "dataset.shape"
   ]
  },
  {
   "cell_type": "code",
   "execution_count": null,
   "metadata": {},
   "outputs": [],
   "source": [
    "# split into train and test sets\n",
    "train_size = int(len(dataset1) * 0.83)\n",
    "test_size = len(dataset1) - train_size\n",
    "train, test = dataset1[0:train_size,:], dataset1[train_size:len(dataset),:]\n",
    "print(len(train), len(test))"
   ]
  },
  {
   "cell_type": "code",
   "execution_count": null,
   "metadata": {},
   "outputs": [],
   "source": [
    "# convert an array of values into a dataset matrix\n",
    "def create_dataset(dataset, look_back=1):\n",
    "\tdataX, dataY = [], []\n",
    "\tfor i in range(len(dataset)-look_back-1):\n",
    "\t\ta = dataset[i:(i+look_back), 0]\n",
    "\t\tdataX.append(a)\n",
    "\t\tdataY.append(dataset[i + look_back, 0])\n",
    "\treturn numpy.array(dataX), numpy.array(dataY)"
   ]
  },
  {
   "cell_type": "code",
   "execution_count": null,
   "metadata": {},
   "outputs": [],
   "source": [
    "# reshape into X=t and Y=t+1\n",
    "look_back = 30\n",
    "trainX, trainY = create_dataset(train, look_back)\n",
    "testX, testY = create_dataset(test, look_back)\n",
    "\n",
    "# reshape input to be [samples, time steps, features]\n",
    "trainX = numpy.reshape(trainX, (trainX.shape[0], 1, trainX.shape[1]))\n",
    "testX = numpy.reshape(testX, (testX.shape[0], 1, testX.shape[1]))\n",
    "\n",
    "\n",
    "from keras.callbacks import EarlyStopping\n",
    "import time\n",
    "\n",
    "\n",
    "# create and fit the LSTM network\n",
    "model = Sequential() # New Instance of Model Object\n",
    "model.add(LSTM(20, input_shape=(1, look_back)))\n",
    "model.add(Dense(100, activation='relu'))\n",
    "model.add(Dense(60, activation='relu'))\n",
    "model.add(Dense(50, activation='relu'))\n",
    "model.add(Dense(1, activation='linear'))\n",
    "model.compile(loss='mean_squared_error', optimizer='ADAM')\n",
    "\n",
    "start = time.time()\n",
    "hist =model.fit(trainX, trainY, epochs=180, shuffle=True,batch_size=125, validation_data=(testX, testY), \n",
    "                callbacks=[EarlyStopping(monitor='val_loss', patience=30)], verbose=1)\n",
    "\n",
    "end = time.time()\n",
    "# Training Phase\n",
    "model.summary()\n",
    "\n",
    "print (\"Model took %0.2f seconds to train\"%(end - start))\n",
    "\n",
    "# make predictions\n",
    "trainPredict = model.predict(trainX)\n",
    "testPredict = model.predict(testX)\n",
    "# invert predictions\n",
    "trainPredict = scaler.inverse_transform(trainPredict)\n",
    "trainY = scaler.inverse_transform([trainY])\n",
    "testPredict = scaler.inverse_transform(testPredict)\n",
    "testY = scaler.inverse_transform([testY])\n",
    "\n",
    "print('Mean Absolute Error Train:', mean_absolute_error(trainY[0], trainPredict[:,0]))\n",
    "print('Mean Squared Error Train:',np.sqrt(mean_squared_error(trainY[0], trainPredict[:,0])))\n",
    "#print('Mean Absolute Percentage Error:',MAPError(trainY[0], trainPredict[:,0]))\n",
    "\n",
    "\n",
    "print('Mean Absolute Error Test:', mean_absolute_error(testY[0], testPredict[:,0]))\n",
    "print('Mean Squared Error Test:',np.sqrt(mean_squared_error(testY[0], testPredict[:,0])))\n",
    "#print('Mean Absolute Percentage Error:',MAPError(testY[0], testPredict[:,0]))\n"
   ]
  },
  {
   "cell_type": "code",
   "execution_count": null,
   "metadata": {},
   "outputs": [],
   "source": [
    "res={'Folds':[1,2,3,4,5],\n",
    "    'MAE_LSTM':[327,321,272,232,235],\n",
    "    'RMSE_LSTM':[446,423,388,316,317],\n",
    "    'MAE_ExtraTrees':[414,372,358,301,275],\n",
    "    'RMSE_ExtraTrees':[617,582,526,441,403]}"
   ]
  },
  {
   "cell_type": "code",
   "execution_count": null,
   "metadata": {},
   "outputs": [],
   "source": [
    "type(res)"
   ]
  },
  {
   "cell_type": "code",
   "execution_count": null,
   "metadata": {},
   "outputs": [],
   "source": [
    "df = pd.DataFrame.from_dict(res)\n",
    "df"
   ]
  },
  {
   "cell_type": "code",
   "execution_count": null,
   "metadata": {},
   "outputs": [],
   "source": [
    "df=df.set_index('Folds')"
   ]
  },
  {
   "cell_type": "code",
   "execution_count": null,
   "metadata": {},
   "outputs": [],
   "source": [
    "sns.set_style('white')\n",
    "sns.set_context(\"paper\", font_scale=1.2)  \n",
    "\n",
    "\n",
    "with pd.plot_params.use('x_compat', True):\n",
    "    df.MAE_ExtraTrees.plot(color='#ff8080',linewidth=2, marker='s',markersize=6)\n",
    "    df.MAE_LSTM.plot(color='#cc0000',linewidth=2, marker='o',markersize=6)\n",
    "    df.RMSE_ExtraTrees.plot(color='#80b3ff',linewidth=2, marker='s',markersize=6)\n",
    "    df.RMSE_LSTM.plot(color='#0047b3',linewidth=2, marker='o',markersize=6)\n",
    "\n",
    "#df.plot(x='Folds',linewidth=2, marker='o',markersize=5)\n",
    "#plt.xticks(np.arange(min(df.Folds), max(df.Folds)+1, 1.0))\n",
    "plt.xticks([0, 1, 2, 3, 4], ['1 (17%)', '2 (33%)', '3 (50%)','4 (67%)','5 (83%)'])\n",
    "#plt.tick_params(left=True, labelleft=True) #remove ticks\n",
    "plt.box(False)\n",
    "#plt.margins(0.2)\n",
    "plt.xlabel('No of Folds / Training Set Size',labelpad=15)\n",
    "plt.ylabel('MAE / RMSE')\n",
    "plt.legend(loc='upper right');\n",
    "plt.tight_layout()\n",
    "plt.savefig('Fig9.png', dpi=300)"
   ]
  },
  {
   "cell_type": "code",
   "execution_count": null,
   "metadata": {},
   "outputs": [],
   "source": [
    "plt.figure()\n",
    "\n",
    "\n",
    "with pd.plot_params.use('x_compat', True):\n",
    "    df.MAE_ExtraTrees.plot(color='r')\n",
    "    df.MAE_LSTM.plot(color='g')\n",
    "    df.RMSE_ExtraTrees.plot(color='b')"
   ]
  },
  {
   "cell_type": "markdown",
   "metadata": {},
   "source": [
    "### Horizon Validation"
   ]
  },
  {
   "cell_type": "code",
   "execution_count": null,
   "metadata": {},
   "outputs": [],
   "source": [
    "bp=pd.read_excel('BOX.xlsx')\n",
    "bp.head(2)"
   ]
  },
  {
   "cell_type": "code",
   "execution_count": null,
   "metadata": {},
   "outputs": [],
   "source": [
    "sns.set_style('white')\n",
    "sns.set_context(\"paper\", font_scale=1.2)  \n",
    "a=plt.figure(figsize=(8,5))\n",
    "sns.boxplot( x='Model', y='CV (RMSE)',data=bp, hue='Set', color='#ff1a1a');\n",
    "sns.despine(left=True);\n",
    "plt.tight_layout() \n",
    "\n",
    "#plt.subplots_adjust(left=None, bottom=None, right=None, top=None, wspace=0.2, hspace=None)\n",
    "#plt.savefig('Fig2.png', dpi=300)"
   ]
  },
  {
   "cell_type": "code",
   "execution_count": null,
   "metadata": {},
   "outputs": [],
   "source": []
  }
 ],
 "metadata": {
  "kernelspec": {
   "display_name": "Python 3",
   "language": "python",
   "name": "python3"
  },
  "language_info": {
   "codemirror_mode": {
    "name": "ipython",
    "version": 3
   },
   "file_extension": ".py",
   "mimetype": "text/x-python",
   "name": "python",
   "nbconvert_exporter": "python",
   "pygments_lexer": "ipython3",
   "version": "3.6.7"
  }
 },
 "nbformat": 4,
 "nbformat_minor": 2
}
